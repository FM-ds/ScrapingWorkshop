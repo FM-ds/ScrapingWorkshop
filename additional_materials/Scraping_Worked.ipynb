{
 "cells": [
  {
   "cell_type": "code",
   "execution_count": null,
   "metadata": {},
   "outputs": [],
   "source": [
    "pip install requests beautifulsoup4 numpy altair plotnine tqdm pillow matplotlib"
   ]
  },
  {
   "cell_type": "code",
   "execution_count": 1,
   "metadata": {},
   "outputs": [],
   "source": [
    "import requests\n",
    "from bs4 import BeautifulSoup\n",
    "import numpy as np\n",
    "import pandas as pd\n",
    "import altair as alt\n",
    "from plotnine import ggplot, geom_point, aes, stat_smooth, facet_wrap\n",
    "import time\n",
    "import os\n",
    "from tqdm import tqdm\n",
    "from sklearn.cluster import KMeans\n",
    "import numpy as np\n",
    "from PIL import Image\n",
    "import pandas as pd\n",
    "import matplotlib.pyplot as plt\n"
   ]
  },
  {
   "cell_type": "markdown",
   "metadata": {},
   "source": [
    "<a href=\"https://colab.research.google.com/github/fm-ds/ScrapingWorkshop/blob/main/Scraping.ipynb\" target=\"_blank\"><img src=\"https://colab.research.google.com/assets/colab-badge.svg\" alt=\"Open In Colab\"/></a>\n",
    "\n",
    "# Web Scraping\n",
    "\n",
    "This notebook introduces web scraping with the `requests` and `BeautifulSoup` modules using the scraping of a British retailer, M&S, as an example.\n",
    "First, scraping is demonstrated on some very simple HTML, then we will move to the real website.\n",
    "\n",
    "# A Basic Example\n",
    "## 1. Searching HTML with `BeautifulSoup`\n",
    "\n",
    "BeautifulSoup is a Python library for parsing HTML documents. We can use it to extract data from HTML we fetch from the web but first we'll try it out with a simple HTML example."
   ]
  },
  {
   "cell_type": "code",
   "execution_count": 2,
   "metadata": {},
   "outputs": [],
   "source": [
    "sample_html = \"\"\"\n",
    "<html>\n",
    "<body>\n",
    "    <h1> BeautifulSoup </h1>\n",
    "    <p> BeautifulSoup is a Python library for parsing HTML documents. We can use it to extract data from HTML we fetch\n",
    "        from the web.\n",
    "        Here, we're just using it to parse some simple sample HTML. </p>\n",
    "\n",
    "    <h2 class=\"important\"> Searching the tree </h2>\n",
    "    <p id=\"searching_description\" style=\"color: red\"> BeautifulSoup allows us to search the HTML tree in lots of different ways: by tag, by\n",
    "        id, by CSS class, and so on. </p>\n",
    "    <ol>\n",
    "        <li role=\"example_1\"> By tag: we could search for every li </li>\n",
    "        <li role=\"example_2\"> By id: we could search for the p tag with id=\"searching_description\" </li>\n",
    "        <li role=\"example_3\" class=\"important\"> By class: we could search for every tag with a given class </li>\n",
    "        <li> and so on... </li>\n",
    "    </ol>\n",
    "\n",
    "<body>\n",
    "</html>\n",
    "\"\"\""
   ]
  },
  {
   "cell_type": "markdown",
   "metadata": {},
   "source": [
    "<div class=\"alert alert-block alert-info\">\n",
    "<h4>HTML cheatsheet: Tags & Attributes</h4>\n",
    "\n",
    "An HTML element is a part of an HTML document that is made up of a start tag, some content, and then a closing tag: `<div>Some text about anything</div>`. These elements can also include attributes, which go in the start tag: `<div id=\"unique_abc\">Some text</div>`.\n",
    "\n",
    "<br>\n",
    "\n",
    "**Tags** are the building blocks of HTML. They are used to define the structure and content of a web page. In the **`sample_html`**, **html**, **body**, **h1**, **p**, **h2**, **ol**, **li**, and **div** are examples of tags. Tags are open \n",
    "- `<html>`: The root element that defines the whole HTML document.\n",
    "- `<body>`: Contains the content of an HTML document.\n",
    "- `<h1>`, `<h2>`: Heading tags used to define headings. `<h1>` represents the main heading, while `<h2>` represents a subheading (heading tags go all the way down to <b>h6</b>, which is the smallest heading).\n",
    "- `<p>`: Defines a paragraph.\n",
    "- `<ol>`: Defines an ordered list.\n",
    "- `<li>`: Defines a list item within a list.\n",
    "- `<div>`: A block-level element used as a container to group and style sections of HTML documents with CSS or manipulate them with JavaScript.\n",
    "\n",
    "<br>\n",
    "\n",
    "**Attributes** provide additional information about an element's properties. They are always specified in the start tag of an element and usually come in name/value pairs like name=\"value\". Common tags include:\n",
    "- `class`: An attribute used to specify a class name for an element. It is used by CSS and JavaScript to perform certain tasks for elements with the specified class name.\n",
    "- `id`: An attribute used to specify a unique id for an element. It is used to identify a single element in the document. In the sample, `id=\"searching_description\"` is used to uniquely identify a paragraph.\n",
    "- `style`: Defines the inline CSS style for an element. For example, `style=\"color: red\"` changes the text colour of the element to red.\n",
    "</div>"
   ]
  },
  {
   "cell_type": "markdown",
   "metadata": {},
   "source": [
    "At present the `sample_html` is just a string. In order to search through it, we'll create a Soup object with beautifulSoup - a searchable object representation. "
   ]
  },
  {
   "cell_type": "code",
   "execution_count": 3,
   "metadata": {},
   "outputs": [
    {
     "data": {
      "text/plain": [
       "'<html>\\n <body>\\n  <h1>\\n   BeautifulSoup\\n  </h1>\\n  <p>\\n   BeautifulSoup is a Python library for parsing HTML documents. We can use it to extract data from HTML we fetch\\n        from the web.\\n        Here, we\\'re just using it to parse some simple sample HTML.\\n  </p>\\n  <h2 class=\"important\">\\n   Searching the tree\\n  </h2>\\n  <p id=\"searching_description\" style=\"color: red\">\\n   BeautifulSoup allows us to search the HTML tree in lots of different ways: by tag, by\\n        id, by CSS class, and so on.\\n  </p>\\n  <ol>\\n   <li role=\"example_1\">\\n    By tag: we could search for every li\\n   </li>\\n   <li role=\"example_2\">\\n    By id: we could search for the p tag with id=\"searching_description\"\\n   </li>\\n   <li class=\"important\" role=\"example_3\">\\n    By class: we could search for every tag with a given class\\n   </li>\\n   <li>\\n    and so on...\\n   </li>\\n  </ol>\\n  <body>\\n  </body>\\n </body>\\n</html>\\n'"
      ]
     },
     "execution_count": 3,
     "metadata": {},
     "output_type": "execute_result"
    }
   ],
   "source": [
    "soup = BeautifulSoup(sample_html, 'html.parser') # Parsing the HTML using BeautifulSoup and the built-in HTML parser \n",
    "soup.prettify()"
   ]
  },
  {
   "cell_type": "markdown",
   "metadata": {},
   "source": [
    "We can now search the `soup` object to extract useful information. Let's try searching by tag, id, and class:\n",
    "\n",
    "**First, by tag:** let's find the text of every list element (`<li>`) on the page:"
   ]
  },
  {
   "cell_type": "code",
   "execution_count": 4,
   "metadata": {},
   "outputs": [
    {
     "name": "stdout",
     "output_type": "stream",
     "text": [
      " By tag: we could search for every li \n",
      " By id: we could search for the p tag with id=\"searching_description\" \n",
      " By class: we could search for every tag with a given class \n",
      " and so on... \n"
     ]
    }
   ],
   "source": [
    "list_elements = soup.find_all('li') # Finding all the list elements in the HTML\n",
    "for element in list_elements:\n",
    "    print(element.text) # Printing the text of each list element"
   ]
  },
  {
   "cell_type": "markdown",
   "metadata": {},
   "source": [
    "**Next, by id** let's find what the paragraph (`<p>`) with the `id` `searching_description` says and let's also take a look at its style."
   ]
  },
  {
   "cell_type": "code",
   "execution_count": 5,
   "metadata": {},
   "outputs": [
    {
     "name": "stdout",
     "output_type": "stream",
     "text": [
      "text:  BeautifulSoup allows us to search the HTML tree in lots of different ways: by tag, by\n",
      "        id, by CSS class, and so on. \n",
      "style: color: red\n"
     ]
    }
   ],
   "source": [
    "# instead of using find_all, we can use find to find the first element that matches the search criteria\n",
    "description_element = soup.find('p', {'id': 'searching_description'}) # Finding the paragraph with id=\"searching_description\"\n",
    "description_element\n",
    "\n",
    "print('text:', description_element.text) # Printing the text of the paragraph with id=\"searching_description\"\n",
    "print('style:', description_element['style']) # Printing the value of the style attribute of the paragraph with id=\"searching_description\""
   ]
  },
  {
   "cell_type": "markdown",
   "metadata": {},
   "source": [
    "**by class:** let's find all elements with the `class` `important`"
   ]
  },
  {
   "cell_type": "code",
   "execution_count": 6,
   "metadata": {},
   "outputs": [
    {
     "name": "stdout",
     "output_type": "stream",
     "text": [
      "There are 2 elements with class='important'\n",
      "<h2 class=\"important\"> Searching the tree </h2>\n",
      "<li class=\"important\" role=\"example_3\"> By class: we could search for every tag with a given class </li>\n"
     ]
    }
   ],
   "source": [
    "important_elements = soup.find_all(class_='important') # Finding all the elements with class=\"important\"\n",
    "print(f\"There are {len(important_elements)} elements with class='important'\")\n",
    "for element in important_elements:\n",
    "    print(element) # Printing each element with class=\"important\""
   ]
  },
  {
   "cell_type": "markdown",
   "metadata": {},
   "source": [
    "**finally**, we can search in any way we want by supplying a function of our own \n",
    "\n",
    "let's write a simple function that identifies whether an element's `role` attribute that starts with `example-`"
   ]
  },
  {
   "cell_type": "code",
   "execution_count": 7,
   "metadata": {},
   "outputs": [
    {
     "data": {
      "text/plain": [
       "[<li role=\"example_1\"> By tag: we could search for every li </li>,\n",
       " <li role=\"example_2\"> By id: we could search for the p tag with id=\"searching_description\" </li>,\n",
       " <li class=\"important\" role=\"example_3\"> By class: we could search for every tag with a given class </li>]"
      ]
     },
     "execution_count": 7,
     "metadata": {},
     "output_type": "execute_result"
    }
   ],
   "source": [
    "def important_role(role_attribute):\n",
    "    return role_attribute != None and 'example_' in role_attribute\n",
    "\n",
    "# Find the first <ol> element\n",
    "ol_element = soup.find('ol')\n",
    "ol_element.find_all('li', role=important_role) # Finding all the list elements with a role attribute that contains 'example-'"
   ]
  },
  {
   "cell_type": "markdown",
   "metadata": {},
   "source": [
    "## 2. Getting HTML from the web with `Requests`\n",
    "\n",
    "<div style=\"display: flex; align-items: flex-start;\">\n",
    "    <div style=\"flex: 0 2 auto;\">\n",
    "        <img src=\"https://raw.githubusercontent.com/FM-ds/ScrapingWorkshop/main/notebook_images/sample_html_safari.png\" width=\"400px\">\n",
    "    </div>\n",
    "    <div style=\"flex: 1 1 auto; margin-top: 10px; margin-right: 150px\">\n",
    "        <p>We just extracted information from HTML which was defined locally in a string <code>sample_html</code>. Usually, we care about HTML found on the internet. As a simple example, the page defined in <code>sample_html</code> is available at <a href=\"http://www.fmcevoy.io/ScrapingWorkshop/sample_html\">http://www.fmcevoy.io/ScrapingWorkshop/sample_html</a></p>\n",
    "        <p>To download HTML (and any other resources) from the internet, we can use the <code>requests</code> module.</p>\n",
    "    </div>\n",
    "</div>\n"
   ]
  },
  {
   "cell_type": "code",
   "execution_count": 8,
   "metadata": {},
   "outputs": [
    {
     "data": {
      "text/plain": [
       "'<html>\\n<body>\\n    <h1> BeautifulSoup </h1>\\n    <p> BeautifulSoup is a Python library for parsing HTML documents. We can use it to extract data from HTML we fetch\\n        from the web.\\n        Here, we\\'re just using it to parse some simple sample HTML. </p>\\n\\n    <h2 class=\"important\"> Searching the tree </h2>\\n    <p id=\"searching_description\" style=\"color: red\"> BeautifulSoup allows us to search the HTML tree in lots of different ways: by tag, by\\n        id, by CSS class, and so on. </p>\\n    <ol>\\n        <li role=\"example_1\"> By tag: we could search for every li </li>\\n        <li role=\"example_2\"> By id: we could search for the p tag with id=\"searching_description\" </li>\\n        <li role=\"example_3\" class=\"important\"> By class: we could search for every tag with a given class </li>\\n        <li> and so on... </li>\\n    </ol>\\n    <div>\\n        <p>Div tags are used to group block-elements and structure the web page.</p>\\n    </div>\\n\\n    <br>\\n    <br>\\n\\n\\n    <h3 style=\"color: green\">Exercises:</h5>\\n    <div class=\"exercise\">\\n        <p id=\"exercise1\">Find the text of the first paragraph inside this div.</p>\\n    </div>\\n    <div class=\"exercise\" id=\"exercise2\">\\n        <p>Count the number of <code>&lt;div&gt;</code> elements with the class \"exercise\".</p>\\n    </div>\\n    <div class=\"exercise\" id=\"exercise3\">\\n        <ul>\\n            <li><a href=\"https://example.com/page1\">Page 1</a></li>\\n            <li><a href=\"https://example.com/page2\">Page 2</a></li>\\n            <li><a href=\"https://example.com/page3\">Page 3</a></li>\\n        </ul>\\n        <p>Extract all the URLs from the links in this list.</p>\\n    </div>\\n\\n\\n</body>\\n</html>\\n'"
      ]
     },
     "execution_count": 8,
     "metadata": {},
     "output_type": "execute_result"
    }
   ],
   "source": [
    "req = requests.get('http://www.fmcevoy.io/ScrapingWorkshop/sample_html') # Making a request for the sample HTML hosted on the web\n",
    "req.text # looking at the text of the response"
   ]
  },
  {
   "cell_type": "markdown",
   "metadata": {},
   "source": [
    "We can then make a traversable `soup` object using the response and search as we did before."
   ]
  },
  {
   "cell_type": "code",
   "execution_count": 9,
   "metadata": {},
   "outputs": [
    {
     "data": {
      "text/plain": [
       "[<li role=\"example_1\"> By tag: we could search for every li </li>,\n",
       " <li role=\"example_2\"> By id: we could search for the p tag with id=\"searching_description\" </li>,\n",
       " <li class=\"important\" role=\"example_3\"> By class: we could search for every tag with a given class </li>,\n",
       " <li> and so on... </li>,\n",
       " <li><a href=\"https://example.com/page1\">Page 1</a></li>,\n",
       " <li><a href=\"https://example.com/page2\">Page 2</a></li>,\n",
       " <li><a href=\"https://example.com/page3\">Page 3</a></li>]"
      ]
     },
     "execution_count": 9,
     "metadata": {},
     "output_type": "execute_result"
    }
   ],
   "source": [
    "soup = BeautifulSoup(req.text, 'html.parser') # Instead of using the sample HTML, we're using the HTML from the web that we fetched in the previous step\n",
    "soup.find_all('li') # Finding all the list elements in the HTML"
   ]
  },
  {
   "cell_type": "markdown",
   "metadata": {},
   "source": [
    "#### <font color='Green'><strong>Exercises: </strong></font> \n",
    "\n",
    "**EX 1** Retrieve the text of the paragraph (`<p>`) with the id \"exercise1\"."
   ]
  },
  {
   "cell_type": "code",
   "execution_count": 10,
   "metadata": {},
   "outputs": [
    {
     "data": {
      "text/plain": [
       "'Find the text of the first paragraph inside this div.'"
      ]
     },
     "execution_count": 10,
     "metadata": {},
     "output_type": "execute_result"
    }
   ],
   "source": [
    "### 1. Add Solution Here ###\n",
    "\n",
    "exercise1 = soup.find('p', {'id':'exercise1'})\n",
    "\n",
    "exercise1.get_text()"
   ]
  },
  {
   "cell_type": "markdown",
   "metadata": {},
   "source": [
    "**EX 2** Count the number of `<div>` elements on the page that have the class \"exercise\"."
   ]
  },
  {
   "cell_type": "code",
   "execution_count": 11,
   "metadata": {},
   "outputs": [
    {
     "name": "stdout",
     "output_type": "stream",
     "text": [
      "3\n"
     ]
    }
   ],
   "source": [
    "### 2. Add Solution Here ###\n",
    "exercise_divs = soup.find_all('div', class_='exercise')\n",
    "print(len(exercise_divs))\n"
   ]
  },
  {
   "cell_type": "markdown",
   "metadata": {},
   "source": [
    "**EX 3** Extract and print all the URLs from the anchor (`<a>`) tags within the list in div with the id \"exercise3\"."
   ]
  },
  {
   "cell_type": "code",
   "execution_count": 12,
   "metadata": {},
   "outputs": [
    {
     "name": "stdout",
     "output_type": "stream",
     "text": [
      "https://example.com/page1\n",
      "https://example.com/page2\n",
      "https://example.com/page3\n"
     ]
    }
   ],
   "source": [
    "### 3. Add Solution Here ###\n",
    "\n",
    "anchor_tags = soup.find_all('a')\n",
    "for tag in anchor_tags:\n",
    "    print(tag['href'])\n"
   ]
  },
  {
   "cell_type": "markdown",
   "metadata": {},
   "source": [
    "# A Useful Example: Scraping Prices from M&S\n",
    "\n",
    "<div style=\"display: flex; align-items: flex-start;\">\n",
    "    <div style=\"flex: 0 1.75 auto; \">\n",
    "        <img src=\"https://raw.githubusercontent.com/FM-ds/ScrapingWorkshop/main/notebook_images/ms_plants.png\" width=\"500px\">\n",
    "    </div>\n",
    "    <div style=\"flex: 1 1 auto; margin-top: 10px; margin-right: 150px\">\n",
    "        Scraping the sample html is a basic introduction. Let's move to collecting some real-world data.\n",
    "\n",
    "Marks and Spencers is a high-end British supermarket. Let's see if we can collect prices from one of their pages. Josh and I scrape around 100K prices every day to investigate inflation but there are lots of other uses for this data as well:\n",
    "\n",
    "- **Price Comparisons**: You could make a supermarket vs supermarket price comparison tool\n",
    "- **Market Research**: Maybe you want to investigate pricing of your competitors\n",
    "- **Procurement**: Waiting for sales to emerge\n",
    "\n",
    "Today, we'll try scraping prices from just one page, Marks and Spencers' plants: https://www.marksandspencer.com/l/flowers-and-plants/plants?sort=best_seller+desc \n",
    "    </div>\n",
    "</div>\n",
    "\n",
    "\n"
   ]
  },
  {
   "cell_type": "markdown",
   "metadata": {},
   "source": [
    "## Identifying Structure with Inspect Element\n",
    "\n",
    "Before we write any code, we should use inspect element to see how prices, pictures and more are defined in the HTML.\n",
    "\n",
    "<img src=\"https://raw.githubusercontent.com/FM-ds/ScrapingWorkshop/main/notebook_images/ms_inspect_element.png\" width=\"800vw\">\n",
    "\n",
    "There are lots of elements and intimidating details but here we can see:\n",
    "\n",
    "- Product Details are contained in `<div>` elements with a `data-tagg` attribute that starts with `product-card-`\n",
    "- Product Titles are found in `<h2>` elements within the `product-card-` divs\n",
    "\n",
    "We can also see that the `<a>` tag (a link) has the `aria-label` defined. The `aria-label` is part of the ARIA standard (Accessible Rich Internet Applications) which helps make websites more accessible. We can use this description for our own benefit though."
   ]
  },
  {
   "cell_type": "markdown",
   "metadata": {},
   "source": [
    "\n",
    "## Extracting Product Info\n",
    "\n",
    "First, we'll download the HTML from the M&S site and then we'll search for all the product cards to find their titles."
   ]
  },
  {
   "cell_type": "code",
   "execution_count": 11,
   "metadata": {},
   "outputs": [],
   "source": [
    "url = \"https://www.marksandspencer.com/l/flowers-and-plants/plants?sort=best_seller+desc\"\n",
    "req = requests.get(url) # Making a request for the M&S plants page\n",
    "soup = BeautifulSoup(req.text, 'html.parser') # Parsing the HTML using BeautifulSoup and the built-in HTML parser"
   ]
  },
  {
   "cell_type": "code",
   "execution_count": 12,
   "metadata": {},
   "outputs": [],
   "source": [
    "with open(\"M&S_plants.html\", \"w\") as file:\n",
    "    file.write(soup.prettify()) # Writing the prettified HTML to a file"
   ]
  },
  {
   "cell_type": "markdown",
   "metadata": {},
   "source": [
    "### Product Titles\n",
    "\n",
    "Let's try and find all the `product-card-` divs and then look for the `<a>` with the aria label in each one.\n",
    "\n",
    "First we'll build a list of all divs that contain product details by searching for all elements with the data-tagg attribute that contain \"product-card\".\n",
    "\n",
    "For each of these product divs, we'll then search for the `<a>` tag with the `aria-label` attribute, the first `<a>` tag in each `product-card-` `div`."
   ]
  },
  {
   "cell_type": "code",
   "execution_count": 13,
   "metadata": {},
   "outputs": [
    {
     "name": "stdout",
     "output_type": "stream",
     "text": [
      "Product name is Rose Trough, Product brand is M&S Collection, Price is £25, Rating is 4.5168 out of 5\n",
      "Product name is Oriental Lily, Product brand is M&S Collection, Price is £28, Rating is 4.6421 out of 5\n",
      "Product name is Yellow Miniature Phalaenopsis Orchid in Ceramic Pot, Product brand is M&S Collection, Price is £20, Rating is 4.6731 out of 5\n",
      "Product name is Rose Plant with Marc De Champagne Truffles, Product brand is M&S Collection, Price is £30, Rating is 4.5821 out of 5\n",
      "Product name is Spring Flowering Basket, Product brand is M&S Collection, Price is £35, Rating is 4.4146 out of 5\n",
      "Product name is Stephanotis Hoop in Ceramic Pot, Product brand is M&S Collection, Price is £40, Rating is 5 out of 5\n",
      "Product name is Miniature Pink Orchid with Marc de Champagne Truffles, Product brand is M&S Collection, Price is £25, Rating is 4.7778 out of 5\n",
      "Product name is Minature Twin-Stem Phaelanopsis Orchid in Ceramic with Marc du Champagne Truffles 125g Bundle, Product brand is M&S Collection, Price is £25, Rating is 4.7273 out of 5\n",
      "Product name is White Miniature Phalaenopsis Orchid in Ceramic Pot, Product brand is M&S Collection, Price is £20, Rating is 4.7553 out of 5\n",
      "Product name is Purple Miniature Phalaenopsis Cascade Orchid in Ceramic Pot, Product brand is M&S Collection, Price is £25, Rating is 4.4356 out of 5\n"
     ]
    }
   ],
   "source": [
    "# find all divs with data-tagg attribute that contain \"product-card\" and potentially other values\n",
    "product_divs = soup.find_all('div', attrs={'data-tagg': lambda x: x and \"product-card\" in x}) # Using a lambda function to find all divs with data-tagg attribute that contain \"product-card\" and potentially other values\n",
    "for product_div in product_divs[:10]: # Looping through the first 10 product divs\n",
    "    a_tag = product_div.find('a') # Finding the first a tag in the product div\n",
    "    # get the aria-label attribute of the a tag\n",
    "    aria_label = a_tag['aria-label'] # Getting the value of the aria-label attribute of the a tag\n",
    "    print(aria_label) # Printing the value of the aria-label attribute of the a tag\n"
   ]
  },
  {
   "cell_type": "markdown",
   "metadata": {},
   "source": [
    "We can easily extract product details right from these accesibility labels. Let's write a function to do so."
   ]
  },
  {
   "cell_type": "code",
   "execution_count": 14,
   "metadata": {},
   "outputs": [
    {
     "data": {
      "text/plain": [
       "{'name': 'Oriental Lily',\n",
       " 'price': ' 25',\n",
       " 'details': ' Free Delivery',\n",
       " 'rating': ' 4.64'}"
      ]
     },
     "execution_count": 14,
     "metadata": {},
     "output_type": "execute_result"
    }
   ],
   "source": [
    "def product_details_from_label(label):\n",
    "    # split the label into its parts\n",
    "    parts = label.split(\",\") # Splitting the label into its parts\n",
    "\n",
    "    product_details = {} # Creating an empty dictionary to store the product details\n",
    "    # each part can do something different, let's loop through the parts in order to find out the name, price, details and rating\n",
    "    for part in parts:\n",
    "        if \"Product name is \" in part:\n",
    "            product_details['name'] = part.replace(\"Product name is \", \"\")\n",
    "        elif \"Price is £\" in part:\n",
    "            product_details['price'] = part.replace(\"Price is £\", \"\")\n",
    "        elif \"Rating is \" in part:\n",
    "            product_details['rating'] = part.replace(\"Rating is \", \"\").replace(\" out of 5\", \"\") # keeping just the rating itself\n",
    "        elif \"Product is \" in part: # captures stuff like Free delivery\n",
    "            product_details['details'] = part.replace(\"Product is \", \"\")\n",
    "    return product_details # Returning the product details dictionary\n",
    "\n",
    "test_details = \"Product name is Oriental Lily, Price is £25, Product is Free Delivery, Rating is 4.64 out of 5\"\n",
    "product_details_from_label(test_details) # Testing the function with a sample label\n",
    "        "
   ]
  },
  {
   "cell_type": "markdown",
   "metadata": {},
   "source": [
    "We can now use our function `product_details_from_label` to go from the accesibility labels (\"Product name is...\") to structured product information."
   ]
  },
  {
   "cell_type": "code",
   "execution_count": 15,
   "metadata": {},
   "outputs": [
    {
     "data": {
      "text/plain": [
       "[{'name': 'Rose Trough', 'price': ' 25', 'rating': ' 4.5168'},\n",
       " {'name': 'Oriental Lily', 'price': ' 28', 'rating': ' 4.6421'},\n",
       " {'name': 'Yellow Miniature Phalaenopsis Orchid in Ceramic Pot',\n",
       "  'price': ' 20',\n",
       "  'rating': ' 4.6731'},\n",
       " {'name': 'Rose Plant with Marc De Champagne Truffles',\n",
       "  'price': ' 30',\n",
       "  'rating': ' 4.5821'},\n",
       " {'name': 'Spring Flowering Basket', 'price': ' 35', 'rating': ' 4.4146'}]"
      ]
     },
     "execution_count": 15,
     "metadata": {},
     "output_type": "execute_result"
    }
   ],
   "source": [
    "products = [] # Creating an empty list to store the product details\n",
    "\n",
    "# find all divs with data-tagg attribute that contain \"product-card\" and potentially other values\n",
    "product_divs = soup.find_all('div', attrs={'data-tagg': lambda x: x and \"product-card\" in x}) # Using a lambda function to find all divs with data-tagg attribute that contain \"product-card\" and potentially other values\n",
    "for product_div in product_divs: # Looping through the first 10 product divs\n",
    "    a_tag = product_div.find('a') # Finding the first a tag in the product div\n",
    "    aria_label = a_tag['aria-label'] # Getting the value of the aria-label attribute of the a tag\n",
    "\n",
    "    product_details = product_details_from_label(aria_label) # Using the function to get the product details from the aria-label\n",
    "    products.append(product_details) # Appending the product details to the list of products\n",
    "\n",
    "products[:5] # let's take a peek at the first 5 products"
   ]
  },
  {
   "cell_type": "markdown",
   "metadata": {},
   "source": [
    "## Finding more product information: rank, image and link \n",
    "\n",
    "This is a good start but we probably want more information about each product than just names, prices and ratings.\n",
    "\n",
    "One useful bit of information is just the products rank on the page (products are sorted by `best sellers`). Thankfully this is easy, the `divs` position in `product_divs` is its rank.\n",
    "\n",
    "We also want to get the urls of images and the product pages.\n",
    "\n",
    "### Images\n",
    "Images are easy to find. We'll just look for `img` tags within the `divs`.\n",
    "\n",
    "<img src=\"https://raw.githubusercontent.com/FM-ds/ScrapingWorkshop/main/notebook_images/ms_inspect_image.png\" width=\"600\">\n",
    "\n",
    "\n",
    "### Links\n",
    "The links are also easy. We can just look at the `href` attribute of the `a` tag.\n",
    "\n",
    "\n"
   ]
  },
  {
   "cell_type": "code",
   "execution_count": 16,
   "metadata": {},
   "outputs": [
    {
     "data": {
      "text/plain": [
       "[{'name': 'Rose Trough',\n",
       "  'price': ' 25',\n",
       "  'rating': ' 4.5168',\n",
       "  'url': 'http://www.marksandspencer.com/yellow-rose-trough/p/flp21035215#intid=pid_pg1pip44g2r1c1',\n",
       "  'image': 'https://assets.digitalcontent.marksandspencer.app/image/upload/w_1024,q_auto,f_auto/SD_FD_F44A_00457873_NC_X_EC_90',\n",
       "  'rank': 1},\n",
       " {'name': 'Oriental Lily',\n",
       "  'price': ' 28',\n",
       "  'rating': ' 4.6421',\n",
       "  'url': 'http://www.marksandspencer.com/oriental-lily/p/flp21037669#intid=pid_pg1pip44g2r1c2',\n",
       "  'image': 'https://assets.digitalcontent.marksandspencer.app/image/upload/w_1024,q_auto,f_auto/SD_FD_F44A_00557771_NC_X_EC_90',\n",
       "  'rank': 2}]"
      ]
     },
     "execution_count": 16,
     "metadata": {},
     "output_type": "execute_result"
    }
   ],
   "source": [
    "products = [] # Creating an empty list to store the product details\n",
    "\n",
    "# find all divs with data-tagg attribute that contain \"product-card\" and potentially other values\n",
    "product_divs = soup.find_all('div', attrs={'data-tagg': lambda x: x and \"product-card\" in x}) # Using a lambda function to find all divs with data-tagg attribute that contain \"product-card\" and potentially other values\n",
    "for i, product_div in enumerate(product_divs): # Looping through the first 10 product divs\n",
    "    a_tag = product_div.find('a') # Finding the first a tag in the product div\n",
    "    aria_label = a_tag['aria-label'] # Getting the value of the aria-label attribute of the a tag\n",
    "\n",
    "    # extract names, prices, details and ratings from the aria-label\n",
    "    product_details = product_details_from_label(aria_label) # Using the function to get the product details from the aria-label\n",
    "\n",
    "    # extract the product link from the a tag\n",
    "    product_details['url'] = a_tag['href'] # Getting the value of the href attribute of the a tag\n",
    "    product_details['url'] = \"http://www.marksandspencer.com\" + product_details['url'] # Adding the base URL to the product URL\n",
    "\n",
    "\n",
    "    # extract the image link from the a tag\n",
    "    img_tags = a_tag.find_all('img') # Finding the first img tag in the a tag\n",
    "    product_details['image'] = img_tags[-1]['src'] # Getting the value of the src attribute of the img tag\n",
    "\n",
    "    # add the rank of the product\n",
    "    product_details['rank'] = i + 1 # Adding the rank of the product\n",
    "\n",
    "    products.append(product_details) # Appending the product details to the list of products\n",
    "\n",
    "\n",
    "products[:2] # let's take a peek at the first 2 products"
   ]
  },
  {
   "cell_type": "code",
   "execution_count": 17,
   "metadata": {},
   "outputs": [
    {
     "data": {
      "text/plain": [
       "[<img alt=\"Cascaded Orchid with Champagne &amp; Scented Candle\" class=\"image-with-sizing_image__p4cYU product-image-hover_primary__TfBgH\" data-nimg=\"1\" data-tagg=\"product-image-P60751336\" decoding=\"async\" height=\"500\" loading=\"lazy\" sizes=\"(min-width: 768px) 20vw, 30vw\" src=\"https://assets.digitalcontent.marksandspencer.app/image/upload/w_1024,q_auto,f_auto/SD_FD_F44A_29461660_NC_X_EC_0\" srcset=\"https://assets.digitalcontent.marksandspencer.app/image/upload/w_128,q_auto,f_auto/SD_FD_F44A_29461660_NC_X_EC_0 128w, https://assets.digitalcontent.marksandspencer.app/image/upload/w_256,q_auto,f_auto/SD_FD_F44A_29461660_NC_X_EC_0 256w, https://assets.digitalcontent.marksandspencer.app/image/upload/w_384,q_auto,f_auto/SD_FD_F44A_29461660_NC_X_EC_0 384w, https://assets.digitalcontent.marksandspencer.app/image/upload/w_640,q_auto,f_auto/SD_FD_F44A_29461660_NC_X_EC_0 640w, https://assets.digitalcontent.marksandspencer.app/image/upload/w_768,q_auto,f_auto/SD_FD_F44A_29461660_NC_X_EC_0 768w, https://assets.digitalcontent.marksandspencer.app/image/upload/w_1024,q_auto,f_auto/SD_FD_F44A_29461660_NC_X_EC_0 1024w\" style=\"color:transparent;background-color:#f5f5f5\" width=\"384\"/>,\n",
       " <img alt=\"Cascaded Orchid with Champagne &amp; Scented Candle\" class=\"image-with-sizing_image__p4cYU product-image-hover_secondary__4xXVP\" data-nimg=\"1\" data-tagg=\"product-image-P60751336\" decoding=\"async\" height=\"500\" loading=\"lazy\" sizes=\"(min-width: 768px) 20vw, 30vw\" src=\"https://assets.digitalcontent.marksandspencer.app/image/upload/w_1024,q_auto,f_auto/SD_FD_F44A_29461660_NC_X_EC_90\" srcset=\"https://assets.digitalcontent.marksandspencer.app/image/upload/w_128,q_auto,f_auto/SD_FD_F44A_29461660_NC_X_EC_90 128w, https://assets.digitalcontent.marksandspencer.app/image/upload/w_256,q_auto,f_auto/SD_FD_F44A_29461660_NC_X_EC_90 256w, https://assets.digitalcontent.marksandspencer.app/image/upload/w_384,q_auto,f_auto/SD_FD_F44A_29461660_NC_X_EC_90 384w, https://assets.digitalcontent.marksandspencer.app/image/upload/w_640,q_auto,f_auto/SD_FD_F44A_29461660_NC_X_EC_90 640w, https://assets.digitalcontent.marksandspencer.app/image/upload/w_768,q_auto,f_auto/SD_FD_F44A_29461660_NC_X_EC_90 768w, https://assets.digitalcontent.marksandspencer.app/image/upload/w_1024,q_auto,f_auto/SD_FD_F44A_29461660_NC_X_EC_90 1024w\" style=\"color:transparent;background-color:#f5f5f5\" width=\"384\"/>]"
      ]
     },
     "execution_count": 17,
     "metadata": {},
     "output_type": "execute_result"
    }
   ],
   "source": [
    "img_tags"
   ]
  },
  {
   "cell_type": "markdown",
   "metadata": {},
   "source": [
    "# Saving and Visualising \n",
    "\n",
    "We now have structured product information in `products`, a list of dicts. Let's bring them into a `pandas` dataframe and start to clean the data ready for visualisation.\n",
    "\n",
    "The only things we have to do are make our `price`, `rating` and `rank` columns numbers."
   ]
  },
  {
   "cell_type": "code",
   "execution_count": 18,
   "metadata": {},
   "outputs": [
    {
     "data": {
      "text/html": [
       "<div>\n",
       "<style scoped>\n",
       "    .dataframe tbody tr th:only-of-type {\n",
       "        vertical-align: middle;\n",
       "    }\n",
       "\n",
       "    .dataframe tbody tr th {\n",
       "        vertical-align: top;\n",
       "    }\n",
       "\n",
       "    .dataframe thead th {\n",
       "        text-align: right;\n",
       "    }\n",
       "</style>\n",
       "<table border=\"1\" class=\"dataframe\">\n",
       "  <thead>\n",
       "    <tr style=\"text-align: right;\">\n",
       "      <th></th>\n",
       "      <th>name</th>\n",
       "      <th>price</th>\n",
       "      <th>rating</th>\n",
       "      <th>url</th>\n",
       "      <th>image</th>\n",
       "      <th>rank</th>\n",
       "    </tr>\n",
       "  </thead>\n",
       "  <tbody>\n",
       "    <tr>\n",
       "      <th>0</th>\n",
       "      <td>Rose Trough</td>\n",
       "      <td>25</td>\n",
       "      <td>4.5168</td>\n",
       "      <td>http://www.marksandspencer.com/yellow-rose-tro...</td>\n",
       "      <td>https://assets.digitalcontent.marksandspencer....</td>\n",
       "      <td>1</td>\n",
       "    </tr>\n",
       "    <tr>\n",
       "      <th>1</th>\n",
       "      <td>Oriental Lily</td>\n",
       "      <td>28</td>\n",
       "      <td>4.6421</td>\n",
       "      <td>http://www.marksandspencer.com/oriental-lily/p...</td>\n",
       "      <td>https://assets.digitalcontent.marksandspencer....</td>\n",
       "      <td>2</td>\n",
       "    </tr>\n",
       "    <tr>\n",
       "      <th>2</th>\n",
       "      <td>Yellow Miniature Phalaenopsis Orchid in Cerami...</td>\n",
       "      <td>20</td>\n",
       "      <td>4.6731</td>\n",
       "      <td>http://www.marksandspencer.com/yellow-miniatur...</td>\n",
       "      <td>https://assets.digitalcontent.marksandspencer....</td>\n",
       "      <td>3</td>\n",
       "    </tr>\n",
       "    <tr>\n",
       "      <th>3</th>\n",
       "      <td>Rose Plant with Marc De Champagne Truffles</td>\n",
       "      <td>30</td>\n",
       "      <td>4.5821</td>\n",
       "      <td>http://www.marksandspencer.com/rose-plant-with...</td>\n",
       "      <td>https://assets.digitalcontent.marksandspencer....</td>\n",
       "      <td>4</td>\n",
       "    </tr>\n",
       "    <tr>\n",
       "      <th>4</th>\n",
       "      <td>Spring Flowering Basket</td>\n",
       "      <td>35</td>\n",
       "      <td>4.4146</td>\n",
       "      <td>http://www.marksandspencer.com/summer-flowerin...</td>\n",
       "      <td>https://assets.digitalcontent.marksandspencer....</td>\n",
       "      <td>5</td>\n",
       "    </tr>\n",
       "  </tbody>\n",
       "</table>\n",
       "</div>"
      ],
      "text/plain": [
       "                                                name  price  rating  \\\n",
       "0                                        Rose Trough     25  4.5168   \n",
       "1                                      Oriental Lily     28  4.6421   \n",
       "2  Yellow Miniature Phalaenopsis Orchid in Cerami...     20  4.6731   \n",
       "3         Rose Plant with Marc De Champagne Truffles     30  4.5821   \n",
       "4                            Spring Flowering Basket     35  4.4146   \n",
       "\n",
       "                                                 url  \\\n",
       "0  http://www.marksandspencer.com/yellow-rose-tro...   \n",
       "1  http://www.marksandspencer.com/oriental-lily/p...   \n",
       "2  http://www.marksandspencer.com/yellow-miniatur...   \n",
       "3  http://www.marksandspencer.com/rose-plant-with...   \n",
       "4  http://www.marksandspencer.com/summer-flowerin...   \n",
       "\n",
       "                                               image  rank  \n",
       "0  https://assets.digitalcontent.marksandspencer....     1  \n",
       "1  https://assets.digitalcontent.marksandspencer....     2  \n",
       "2  https://assets.digitalcontent.marksandspencer....     3  \n",
       "3  https://assets.digitalcontent.marksandspencer....     4  \n",
       "4  https://assets.digitalcontent.marksandspencer....     5  "
      ]
     },
     "execution_count": 18,
     "metadata": {},
     "output_type": "execute_result"
    }
   ],
   "source": [
    "df = pd.DataFrame(products) # Creating a DataFrame from the list of products\n",
    "\n",
    "# make the numeric columns actually numeric\n",
    "df['price'] = pd.to_numeric(df['price'])\n",
    "df['rating'] = pd.to_numeric(df['rating'])\n",
    "df['rank'] = pd.to_numeric(df['rank'])\n",
    "\n",
    "df = df.dropna(subset=['price', 'rating']) # Dropping rows with missing values in the price and rating columns\n",
    "\n",
    "df.head() # let's take a peek at the first 5 products"
   ]
  },
  {
   "cell_type": "markdown",
   "metadata": {},
   "source": [
    "Let's start to take a look at our data.\n",
    "\n",
    "Let's try some simple scatters with plotnine. \n",
    "\n",
    "First, are higher rated products better selling (rank)?"
   ]
  },
  {
   "cell_type": "code",
   "execution_count": 19,
   "metadata": {},
   "outputs": [
    {
     "name": "stderr",
     "output_type": "stream",
     "text": [
      "Matplotlib is building the font cache; this may take a moment.\n",
      "/Users/finn/anaconda3/envs/workshop/lib/python3.11/site-packages/plotnine/stats/smoothers.py:347: PlotnineWarning: Confidence intervals are not yet implemented for lowess smoothings.\n"
     ]
    },
    {
     "data": {
      "image/png": "[encoded data removed]"
     },
     "metadata": {
      "image/png": {
       "height": 480,
       "width": 640
      }
     },
     "output_type": "display_data"
    }
   ],
   "source": [
    "# let's plot the price and rating of the products with plotnine\n",
    "(ggplot(df, aes(x='rating', y='rank')) # Creating a plot with price on the x-axis and rating on the y-axis\n",
    " + geom_point() # Adding points to the plot\n",
    "    + stat_smooth() \n",
    "         # Adding a smoothed line to the plot\n",
    ")"
   ]
  },
  {
   "cell_type": "markdown",
   "metadata": {},
   "source": [
    "Visually there's little evidence for it.\n",
    "\n",
    "Let's also try looking at the relationship between price and rank - are more expensive products worse selling?\n",
    "\n",
    "We can do this with plotnine, but let's try making an interactive chart with another module `altair`:"
   ]
  },
  {
   "cell_type": "code",
   "execution_count": 20,
   "metadata": {},
   "outputs": [
    {
     "name": "stderr",
     "output_type": "stream",
     "text": [
      "/Users/finn/anaconda3/envs/workshop/lib/python3.11/site-packages/altair/utils/core.py:395: FutureWarning: the convert_dtype parameter is deprecated and will be removed in a future version.  Do ``ser.astype(object).apply()`` instead if you want ``convert_dtype=False``.\n",
      "/Users/finn/anaconda3/envs/workshop/lib/python3.11/site-packages/altair/utils/core.py:395: FutureWarning: the convert_dtype parameter is deprecated and will be removed in a future version.  Do ``ser.astype(object).apply()`` instead if you want ``convert_dtype=False``.\n",
      "/Users/finn/anaconda3/envs/workshop/lib/python3.11/site-packages/altair/utils/core.py:395: FutureWarning: the convert_dtype parameter is deprecated and will be removed in a future version.  Do ``ser.astype(object).apply()`` instead if you want ``convert_dtype=False``.\n"
     ]
    },
    {
     "data": {
      "text/html": [
       "\n",
       "<style>\n",
       "  #altair-viz-86a5aee32c87483ea9f575b798527ce5.vega-embed {\n",
       "    width: 100%;\n",
       "    display: flex;\n",
       "  }\n",
       "\n",
       "  #altair-viz-86a5aee32c87483ea9f575b798527ce5.vega-embed details,\n",
       "  #altair-viz-86a5aee32c87483ea9f575b798527ce5.vega-embed details summary {\n",
       "    position: relative;\n",
       "  }\n",
       "</style>\n",
       "<div id=\"altair-viz-86a5aee32c87483ea9f575b798527ce5\"></div>\n",
       "<script type=\"text/javascript\">\n",
       "  var VEGA_DEBUG = (typeof VEGA_DEBUG == \"undefined\") ? {} : VEGA_DEBUG;\n",
       "  (function(spec, embedOpt){\n",
       "    let outputDiv = document.currentScript.previousElementSibling;\n",
       "    if (outputDiv.id !== \"altair-viz-86a5aee32c87483ea9f575b798527ce5\") {\n",
       "      outputDiv = document.getElementById(\"altair-viz-86a5aee32c87483ea9f575b798527ce5\");\n",
       "    }\n",
       "    const paths = {\n",
       "      \"vega\": \"https://cdn.jsdelivr.net/npm/vega@5?noext\",\n",
       "      \"vega-lib\": \"https://cdn.jsdelivr.net/npm/vega-lib?noext\",\n",
       "      \"vega-lite\": \"https://cdn.jsdelivr.net/npm/vega-lite@5.8.0?noext\",\n",
       "      \"vega-embed\": \"https://cdn.jsdelivr.net/npm/vega-embed@6?noext\",\n",
       "    };\n",
       "\n",
       "    function maybeLoadScript(lib, version) {\n",
       "      var key = `${lib.replace(\"-\", \"\")}_version`;\n",
       "      return (VEGA_DEBUG[key] == version) ?\n",
       "        Promise.resolve(paths[lib]) :\n",
       "        new Promise(function(resolve, reject) {\n",
       "          var s = document.createElement('script');\n",
       "          document.getElementsByTagName(\"head\")[0].appendChild(s);\n",
       "          s.async = true;\n",
       "          s.onload = () => {\n",
       "            VEGA_DEBUG[key] = version;\n",
       "            return resolve(paths[lib]);\n",
       "          };\n",
       "          s.onerror = () => reject(`Error loading script: ${paths[lib]}`);\n",
       "          s.src = paths[lib];\n",
       "        });\n",
       "    }\n",
       "\n",
       "    function showError(err) {\n",
       "      outputDiv.innerHTML = `<div class=\"error\" style=\"color:red;\">${err}</div>`;\n",
       "      throw err;\n",
       "    }\n",
       "\n",
       "    function displayChart(vegaEmbed) {\n",
       "      vegaEmbed(outputDiv, spec, embedOpt)\n",
       "        .catch(err => showError(`Javascript Error: ${err.message}<br>This usually means there's a typo in your chart specification. See the javascript console for the full traceback.`));\n",
       "    }\n",
       "\n",
       "    if(typeof define === \"function\" && define.amd) {\n",
       "      requirejs.config({paths});\n",
       "      require([\"vega-embed\"], displayChart, err => showError(`Error loading script: ${err.message}`));\n",
       "    } else {\n",
       "      maybeLoadScript(\"vega\", \"5\")\n",
       "        .then(() => maybeLoadScript(\"vega-lite\", \"5.8.0\"))\n",
       "        .then(() => maybeLoadScript(\"vega-embed\", \"6\"))\n",
       "        .catch(showError)\n",
       "        .then(() => displayChart(vegaEmbed));\n",
       "    }\n",
       "  })({\"config\": {\"view\": {\"continuousWidth\": 300, \"continuousHeight\": 300}, \"axis\": {\"grid\": false}, \"axisY\": {\"labelExpr\": \"'\\u00a3'+datum.value\"}}, \"data\": {\"name\": \"data-43fcabc2b8016d00adbb0f68399f5877\"}, \"mark\": {\"type\": \"image\", \"height\": 45, \"opacity\": 0.7, \"width\": 45}, \"background\": \"rgb(239,239,239)\", \"encoding\": {\"tooltip\": [{\"field\": \"name\", \"type\": \"nominal\"}, {\"field\": \"price\", \"type\": \"quantitative\"}, {\"field\": \"rating\", \"type\": \"quantitative\"}], \"url\": {\"field\": \"image\", \"type\": \"nominal\"}, \"x\": {\"field\": \"rank\", \"type\": \"quantitative\"}, \"y\": {\"field\": \"price\", \"type\": \"quantitative\"}}, \"height\": 400, \"params\": [{\"name\": \"param_1\", \"select\": {\"type\": \"interval\", \"encodings\": [\"x\", \"y\"]}, \"bind\": \"scales\"}], \"title\": {\"text\": \"M&S Plants\", \"anchor\": \"start\", \"fontSize\": 16, \"subtitle\": \"Price vs Best-Seller Rank\"}, \"width\": 600, \"$schema\": \"https://vega.github.io/schema/vega-lite/v5.8.0.json\", \"datasets\": {\"data-43fcabc2b8016d00adbb0f68399f5877\": [{\"name\": \"Rose Trough\", \"price\": 25, \"rating\": 4.5168, \"url\": \"http://www.marksandspencer.com/yellow-rose-trough/p/flp21035215#intid=pid_pg1pip44g2r1c1\", \"image\": \"https://assets.digitalcontent.marksandspencer.app/image/upload/w_1024,q_auto,f_auto/SD_FD_F44A_00457873_NC_X_EC_90\", \"rank\": 1}, {\"name\": \"Oriental Lily\", \"price\": 28, \"rating\": 4.6421, \"url\": \"http://www.marksandspencer.com/oriental-lily/p/flp21037669#intid=pid_pg1pip44g2r1c2\", \"image\": \"https://assets.digitalcontent.marksandspencer.app/image/upload/w_1024,q_auto,f_auto/SD_FD_F44A_00557771_NC_X_EC_90\", \"rank\": 2}, {\"name\": \"Yellow Miniature Phalaenopsis Orchid in Ceramic Pot\", \"price\": 20, \"rating\": 4.6731, \"url\": \"http://www.marksandspencer.com/yellow-miniature-phalaenopsis-orchid-in-ceramic-pot/p/flp60492619#intid=pid_pg1pip44g2r2c1\", \"image\": \"https://assets.digitalcontent.marksandspencer.app/image/upload/w_1024,q_auto,f_auto/SD_FD_F44A_29126477_NC_X_EC_90\", \"rank\": 3}, {\"name\": \"Rose Plant with Marc De Champagne Truffles\", \"price\": 30, \"rating\": 4.5821, \"url\": \"http://www.marksandspencer.com/rose-plant-with-ceramic-pot-and-chocolates/p/flp60514073#intid=pid_pg1pip44g2r2c2\", \"image\": \"https://assets.digitalcontent.marksandspencer.app/image/upload/w_1024,q_auto,f_auto/SD_FD_F44A_29171859_NC_X_EC_90\", \"rank\": 4}, {\"name\": \"Spring Flowering Basket\", \"price\": 35, \"rating\": 4.4146, \"url\": \"http://www.marksandspencer.com/summer-flowering-basket/p/flp60178395#intid=pid_pg1pip44g2r3c1\", \"image\": \"https://assets.digitalcontent.marksandspencer.app/image/upload/w_1024,q_auto,f_auto/SD_FD_F44A_00172851_NC_X_EC_90\", \"rank\": 5}, {\"name\": \"Stephanotis Hoop in Ceramic Pot\", \"price\": 40, \"rating\": 5.0, \"url\": \"http://www.marksandspencer.com/stephanotis-hoop-in-ceramic-pot/p/flp60751330#intid=pid_pg1pip44g2r3c2\", \"image\": \"https://assets.digitalcontent.marksandspencer.app/image/upload/w_1024,q_auto,f_auto/SD_FD_F44A_29461219_NC_X_EC_90\", \"rank\": 6}, {\"name\": \"Miniature Pink Orchid with Marc de Champagne Truffles\", \"price\": 25, \"rating\": 4.7778, \"url\": \"http://www.marksandspencer.com/miniature-pink-phalaenopsis-orchid-ceramic-and-swiss-truffles-bundle/p/flp60704271#intid=pid_pg1pip44g2r4c1\", \"image\": \"https://assets.digitalcontent.marksandspencer.app/image/upload/w_1024,q_auto,f_auto/SD_FD_F44A_29414550_NC_X_EC_90\", \"rank\": 7}, {\"name\": \"Minature Twin-Stem Phaelanopsis Orchid in Ceramic with Marc du Champagne Truffles 125g Bundle\", \"price\": 25, \"rating\": 4.7273, \"url\": \"http://www.marksandspencer.com/miniature-yellow-phalaenopsis-orchid-ceramic-and-swiss-truffles-bundle/p/flp60704270#intid=pid_pg1pip44g2r4c2\", \"image\": \"https://assets.digitalcontent.marksandspencer.app/image/upload/w_1024,q_auto,f_auto/SD_FD_F44A_29414567_NC_X_EC_90\", \"rank\": 8}, {\"name\": \"White Miniature Phalaenopsis Orchid in Ceramic Pot\", \"price\": 20, \"rating\": 4.7553, \"url\": \"http://www.marksandspencer.com/white-miniature-phalaenopsis-orchid-in-ceramic-pot/p/flp60492617#intid=pid_pg1pip44g2r5c1\", \"image\": \"https://assets.digitalcontent.marksandspencer.app/image/upload/w_1024,q_auto,f_auto/SD_FD_F44A_29126446_NC_X_EC_90\", \"rank\": 9}, {\"name\": \"Purple Miniature Phalaenopsis Cascade Orchid in Ceramic Pot\", \"price\": 25, \"rating\": 4.4356, \"url\": \"http://www.marksandspencer.com/purple-miniature-phalaenopsis-cascade-orchid-in-ceramic-pot/p/flp60492615#intid=pid_pg1pip44g2r5c2\", \"image\": \"https://assets.digitalcontent.marksandspencer.app/image/upload/w_1024,q_auto,f_auto/SD_FD_F44A_29126392_NC_X_EC_90\", \"rank\": 10}, {\"name\": \"Olive Tree in Hessian Gift Bag\", \"price\": 50, \"rating\": 4.3801, \"url\": \"http://www.marksandspencer.com/olive-tree-in-bag/p/flp60178572#intid=pid_pg1pip44g2r6c1\", \"image\": \"https://assets.digitalcontent.marksandspencer.app/image/upload/w_1024,q_auto,f_auto/SD_FD_F44A_00173285_NC_X_EC_90\", \"rank\": 11}, {\"name\": \"Large White Phalaenopsis Orchid in Ceramic Pot\", \"price\": 35, \"rating\": 4.2892, \"url\": \"http://www.marksandspencer.com/large-white-phalaenopsis-orchid-in-ceramic-pot/p/flp60257986#intid=pid_pg1pip44g2r6c2\", \"image\": \"https://assets.digitalcontent.marksandspencer.app/image/upload/w_1024,q_auto,f_auto/SD_FD_F44A_00354493_NC_X_EC_90\", \"rank\": 12}, {\"name\": \"Large Purple Phalaenopsis Orchid in Ceramic Pot\", \"price\": 35, \"rating\": 4.4301, \"url\": \"http://www.marksandspencer.com/large-purple-phalaenopsis-orchid-in-ceramic-pot/p/flp60187446#intid=pid_pg1pip44g2r7c1\", \"image\": \"https://assets.digitalcontent.marksandspencer.app/image/upload/w_1024,q_auto,f_auto/SD_FD_F44A_00206549_NC_X_EC_90\", \"rank\": 13}, {\"name\": \"White Miniature Phalaenopsis Cascade Orchid in Ceramic Pot\", \"price\": 25, \"rating\": 4.6127, \"url\": \"http://www.marksandspencer.com/white-miniature-phalaenopsis-cascade-orchid-in-ceramic-pot/p/flp60492616#intid=pid_pg1pip44g2r7c2\", \"image\": \"https://assets.digitalcontent.marksandspencer.app/image/upload/w_1024,q_auto,f_auto/SD_FD_F44A_29126415_NC_X_EC_90\", \"rank\": 14}, {\"name\": \"Miniature White Orchid with Marc de Champagne Truffles\", \"price\": 25, \"rating\": 4.9394, \"url\": \"http://www.marksandspencer.com/miniature-white-phalaenopsis-orchid-ceramic-and-swiss-truffles-bundle/p/flp60704272#intid=pid_pg1pip44g2r8c1\", \"image\": \"https://assets.digitalcontent.marksandspencer.app/image/upload/w_1024,q_auto,f_auto/SD_FD_F44A_29414543_NC_X_EC_90\", \"rank\": 15}, {\"name\": \"Gigi Rose Planter\", \"price\": 35, \"rating\": 4.2667, \"url\": \"http://www.marksandspencer.com/gigi-rose-planter/p/flp60648837#intid=pid_pg1pip44g2r8c2\", \"image\": \"https://assets.digitalcontent.marksandspencer.app/image/upload/w_1024,q_auto,f_auto/SD_FD_F44A_29388844_NC_X_EC_90\", \"rank\": 16}, {\"name\": \"Thinking Of You Rose Plant\", \"price\": 28, \"rating\": 4.3446, \"url\": \"http://www.marksandspencer.com/thinking-of-you-rose/p/flp60068735#intid=pid_pg1pip44g2r9c1\", \"image\": \"https://assets.digitalcontent.marksandspencer.app/image/upload/w_1024,q_auto,f_auto/SD_FD_F44A_00034791_NC_X_EC_90\", \"rank\": 17}, {\"name\": \"Calathea Crocata Plant in Ceramic Pot\", \"price\": 30, \"rating\": 4.625, \"url\": \"http://www.marksandspencer.com/flowering-calathea-in-ceramic-pot/p/flp60643198#intid=pid_pg1pip44g2r9c2\", \"image\": \"https://assets.digitalcontent.marksandspencer.app/image/upload/w_1024,q_auto,f_auto/SD_FD_F44A_29385096_NC_X_EC_90\", \"rank\": 18}, {\"name\": \"Camellia in Hessian Bag\", \"price\": 40, \"rating\": 4.6105, \"url\": \"http://www.marksandspencer.com/camelia/p/flp60502936#intid=pid_pg1pip44g2r10c1\", \"image\": \"https://assets.digitalcontent.marksandspencer.app/image/upload/w_1024,q_auto,f_auto/SD_FD_F44A_29149377_NC_X_EC_90\", \"rank\": 19}, {\"name\": \"Miniature White Orchid with Marc de Champagne Truffles\", \"price\": 30, \"rating\": 4.6667, \"url\": \"http://www.marksandspencer.com/miniature-white-cascade-orchid-and-swiss-truffles-bundle/p/flp60704273#intid=pid_pg1pip44g2r10c2\", \"image\": \"https://assets.digitalcontent.marksandspencer.app/image/upload/w_1024,q_auto,f_auto/SD_FD_F44A_29414536_NC_X_EC_90\", \"rank\": 20}, {\"name\": \"Miniature Purple Cascade Orchid with Marc De Champagne Truffles\", \"price\": 30, \"rating\": 4.625, \"url\": \"http://www.marksandspencer.com/miniature-purple-cascade-orchid-ceramic-and-swiss-truffles-bundle/p/flp60704274#intid=pid_pg1pip44g2r11c1\", \"image\": \"https://assets.digitalcontent.marksandspencer.app/image/upload/w_1024,q_auto,f_auto/SD_FD_F44A_29414529_NC_X_EC_90\", \"rank\": 21}, {\"name\": \"Bay Tree in Hessian Gift Bag\", \"price\": 45, \"rating\": 5.0, \"url\": \"http://www.marksandspencer.com/bay-tree/p/flp60751363#intid=pid_pg1pip44g2r11c2\", \"image\": \"https://assets.digitalcontent.marksandspencer.app/image/upload/w_1024,q_auto,f_auto/SD_FD_F44A_29461370_NC_X_EC_90\", \"rank\": 22}, {\"name\": \"Celebration Rose Plant\", \"price\": 28, \"rating\": 4.5379, \"url\": \"http://www.marksandspencer.com/celebration-rose-plant/p/flp60068698#intid=pid_pg1pip44g2r12c1\", \"image\": \"https://assets.digitalcontent.marksandspencer.app/image/upload/w_1024,q_auto,f_auto/SD_FD_F44A_00034784_NC_X_EC_90\", \"rank\": 23}, {\"name\": \"Large Monstera (Swiss Cheese Plant)\", \"price\": 30, \"rating\": 4.3333, \"url\": \"http://www.marksandspencer.com/large-monstera-swiss-cheese-plant/p/flp60547334#intid=pid_pg1pip44g2r12c2\", \"image\": \"https://assets.digitalcontent.marksandspencer.app/image/upload/w_1024,q_auto,f_auto/SD_FD_F44A_29227426_NC_X_EC_90\", \"rank\": 24}, {\"name\": \"Medium Calathea in Ceramic Pot\", \"price\": 28, \"rating\": 4.7303, \"url\": \"http://www.marksandspencer.com/medium-calathea-in-ceramic-pot/p/flp60554045#intid=pid_pg1pip44g2r13c1\", \"image\": \"https://assets.digitalcontent.marksandspencer.app/image/upload/w_1024,q_auto,f_auto/SD_FD_F44A_29235759_NC_X_EC_90\", \"rank\": 25}, {\"name\": \"Mum's Pink Luxury Rose Basket\", \"price\": 40, \"rating\": 3.8095, \"url\": \"http://www.marksandspencer.com/luxury-rose-basket/p/flp60514521#intid=pid_pg1pip44g2r13c2\", \"image\": \"https://assets.digitalcontent.marksandspencer.app/image/upload/w_1024,q_auto,f_auto/SD_FD_F44A_29172306_NC_X_EC_90\", \"rank\": 26}, {\"name\": \"Mum In A Million Rose Plant\", \"price\": 28, \"rating\": 4.2, \"url\": \"http://www.marksandspencer.com/mum-in-a-million-rose/p/flp60005179#intid=pid_pg1pip44g2r14c1\", \"image\": \"https://assets.digitalcontent.marksandspencer.app/image/upload/w_1024,q_auto,f_auto/SD_FD_F44A_00789950_NC_X_EC_90\", \"rank\": 27}, {\"name\": \"Large Monstera On Moss Pole\", \"price\": 40, \"rating\": 4.3333, \"url\": \"http://www.marksandspencer.com/large-monstera-on-moss-pole/p/flp60726548#intid=pid_pg1pip44g2r14c2\", \"image\": \"https://assets.digitalcontent.marksandspencer.app/image/upload/w_1024,q_auto,f_auto/SD_FD_F44A_29437795_NC_X_EC_90\", \"rank\": 28}, {\"name\": \"Duo Purple Phalaenopsis Planter & Belgian Chocolates Bundle\", \"price\": 55, \"rating\": 4.9167, \"url\": \"http://www.marksandspencer.com/duo-purple-phalaenopsis-planter-and-belgian-chocolates-bundle/p/flp60704214#intid=pid_pg1pip44g2r15c1\", \"image\": \"https://assets.digitalcontent.marksandspencer.app/image/upload/w_1024,q_auto,f_auto/SD_FD_F44A_29414574_NC_X_EC_90\", \"rank\": 29}, {\"name\": \"White Orchid Cascade in Silver Glass Pot\", \"price\": 65, \"rating\": 4.3617, \"url\": \"http://www.marksandspencer.com/luxury-white-phalaenopsis-orchid-cascade-in-gold-glass/p/flp60547297#intid=pid_pg1pip44g2r15c2\", \"image\": \"https://assets.digitalcontent.marksandspencer.app/image/upload/w_1024,q_auto,f_auto/SD_FD_F44A_29227631_NC_X_EC_90\", \"rank\": 30}, {\"name\": \"Hydrangea Plant in Terracotta Pot\", \"price\": 40, \"rating\": 4.4118, \"url\": \"http://www.marksandspencer.com/white-hydrangea-tin/p/flp60502976#intid=pid_pg1pip44g2r18c2\", \"image\": \"https://assets.digitalcontent.marksandspencer.app/image/upload/w_1024,q_auto,f_auto/SD_FD_F44A_29149537_NC_X_EC_90\", \"rank\": 36}]}}, {\"mode\": \"vega-lite\"});\n",
       "</script>"
      ],
      "text/plain": [
       "alt.Chart(...)"
      ]
     },
     "metadata": {},
     "output_type": "display_data"
    }
   ],
   "source": [
    "chart = alt.Chart(df).mark_image(width=45, height=45, opacity=0.7).encode(\n",
    "    x='rank:Q',\n",
    "    y='price:Q',\n",
    "    url='image',\n",
    "    tooltip=[\n",
    "        'name', 'price', 'rating'\n",
    "        ]\n",
    ") # Creating an interactive scatter plot of the products using Altair\n",
    "\n",
    "# some extra formatting, you can ignore, change or remove this\n",
    "chart = chart.properties(\n",
    "    background='rgb(239,239,239)',\n",
    "    width=600,\n",
    "    height=400,\n",
    "    title=alt.TitleParams(\n",
    "        \"M&S Plants\",\n",
    "        fontSize = 16,\n",
    "        subtitle=\"Price vs Best-Seller Rank\",\n",
    "        anchor=\"start\"\n",
    "    )\n",
    ").configure_axis(grid=False).configure_axisY(labelExpr=\"'£'+datum.value\").interactive() #  # Adding some formatting to the chart\n",
    "\n",
    "chart.display()"
   ]
  },
  {
   "cell_type": "markdown",
   "metadata": {},
   "source": [
    "Here, we see that the most expensive products (>£40) are usually among the worst selling products but that this possible relationship doesn't hold across the sample."
   ]
  },
  {
   "cell_type": "code",
   "execution_count": 22,
   "metadata": {},
   "outputs": [
    {
     "data": {
      "text/html": [
       "<div>\n",
       "<style scoped>\n",
       "    .dataframe tbody tr th:only-of-type {\n",
       "        vertical-align: middle;\n",
       "    }\n",
       "\n",
       "    .dataframe tbody tr th {\n",
       "        vertical-align: top;\n",
       "    }\n",
       "\n",
       "    .dataframe thead th {\n",
       "        text-align: right;\n",
       "    }\n",
       "</style>\n",
       "<table border=\"1\" class=\"dataframe\">\n",
       "  <thead>\n",
       "    <tr style=\"text-align: right;\">\n",
       "      <th></th>\n",
       "      <th>name</th>\n",
       "      <th>price</th>\n",
       "      <th>rating</th>\n",
       "      <th>url</th>\n",
       "      <th>image</th>\n",
       "      <th>rank</th>\n",
       "    </tr>\n",
       "  </thead>\n",
       "  <tbody>\n",
       "    <tr>\n",
       "      <th>0</th>\n",
       "      <td>Rose Trough</td>\n",
       "      <td>25</td>\n",
       "      <td>4.5168</td>\n",
       "      <td>http://www.marksandspencer.com/yellow-rose-tro...</td>\n",
       "      <td>https://assets.digitalcontent.marksandspencer....</td>\n",
       "      <td>1</td>\n",
       "    </tr>\n",
       "    <tr>\n",
       "      <th>1</th>\n",
       "      <td>Oriental Lily</td>\n",
       "      <td>28</td>\n",
       "      <td>4.6421</td>\n",
       "      <td>http://www.marksandspencer.com/oriental-lily/p...</td>\n",
       "      <td>https://assets.digitalcontent.marksandspencer....</td>\n",
       "      <td>2</td>\n",
       "    </tr>\n",
       "    <tr>\n",
       "      <th>2</th>\n",
       "      <td>Yellow Miniature Phalaenopsis Orchid in Cerami...</td>\n",
       "      <td>20</td>\n",
       "      <td>4.6731</td>\n",
       "      <td>http://www.marksandspencer.com/yellow-miniatur...</td>\n",
       "      <td>https://assets.digitalcontent.marksandspencer....</td>\n",
       "      <td>3</td>\n",
       "    </tr>\n",
       "    <tr>\n",
       "      <th>3</th>\n",
       "      <td>Rose Plant with Marc De Champagne Truffles</td>\n",
       "      <td>30</td>\n",
       "      <td>4.5821</td>\n",
       "      <td>http://www.marksandspencer.com/rose-plant-with...</td>\n",
       "      <td>https://assets.digitalcontent.marksandspencer....</td>\n",
       "      <td>4</td>\n",
       "    </tr>\n",
       "    <tr>\n",
       "      <th>4</th>\n",
       "      <td>Spring Flowering Basket</td>\n",
       "      <td>35</td>\n",
       "      <td>4.4146</td>\n",
       "      <td>http://www.marksandspencer.com/summer-flowerin...</td>\n",
       "      <td>https://assets.digitalcontent.marksandspencer....</td>\n",
       "      <td>5</td>\n",
       "    </tr>\n",
       "  </tbody>\n",
       "</table>\n",
       "</div>"
      ],
      "text/plain": [
       "                                                name  price  rating  \\\n",
       "0                                        Rose Trough     25  4.5168   \n",
       "1                                      Oriental Lily     28  4.6421   \n",
       "2  Yellow Miniature Phalaenopsis Orchid in Cerami...     20  4.6731   \n",
       "3         Rose Plant with Marc De Champagne Truffles     30  4.5821   \n",
       "4                            Spring Flowering Basket     35  4.4146   \n",
       "\n",
       "                                                 url  \\\n",
       "0  http://www.marksandspencer.com/yellow-rose-tro...   \n",
       "1  http://www.marksandspencer.com/oriental-lily/p...   \n",
       "2  http://www.marksandspencer.com/yellow-miniatur...   \n",
       "3  http://www.marksandspencer.com/rose-plant-with...   \n",
       "4  http://www.marksandspencer.com/summer-flowerin...   \n",
       "\n",
       "                                               image  rank  \n",
       "0  https://assets.digitalcontent.marksandspencer....     1  \n",
       "1  https://assets.digitalcontent.marksandspencer....     2  \n",
       "2  https://assets.digitalcontent.marksandspencer....     3  \n",
       "3  https://assets.digitalcontent.marksandspencer....     4  \n",
       "4  https://assets.digitalcontent.marksandspencer....     5  "
      ]
     },
     "execution_count": 22,
     "metadata": {},
     "output_type": "execute_result"
    }
   ],
   "source": [
    "df.head()"
   ]
  },
  {
   "cell_type": "code",
   "execution_count": 23,
   "metadata": {},
   "outputs": [
    {
     "data": {
      "text/plain": [
       "'http://www.marksandspencer.com/white-hydrangea-tin/p/flp60502976#intid=pid_pg1pip44g2r18c2'"
      ]
     },
     "execution_count": 23,
     "metadata": {},
     "output_type": "execute_result"
    }
   ],
   "source": [
    "df.url.iloc[-1]"
   ]
  },
  {
   "cell_type": "markdown",
   "metadata": {},
   "source": [
    "## Extension: Image analysis\n",
    "\n",
    "We have some beautiful flowers of different colours.\n",
    "\n",
    "</br></br> Can we use the images to classify them by colour?\n",
    "\n",
    "Let's:\n",
    "\n",
    "1. Download the images\n",
    "2. Use Kmeans to extract the dominant colours\n",
    "3. Assign a colour to each product, by comparing the dominant colours to a list of known colours\n",
    "4. Visualise\n",
    "\n",
    "</br></br> Let's start by downloading the images."
   ]
  },
  {
   "cell_type": "code",
   "execution_count": 24,
   "metadata": {},
   "outputs": [
    {
     "name": "stderr",
     "output_type": "stream",
     "text": [
      "31it [00:12,  2.46it/s]\n"
     ]
    }
   ],
   "source": [
    "image_data = []\n",
    "\n",
    "os.makedirs('images', exist_ok=True) # Creating a directory to store the images\n",
    "for i, row in tqdm(df.iterrows()): # Looping through the rows of the DataFrame\n",
    "    img_data = requests.get(row['image']).content # Fetching the image data\n",
    "    file_name = row['image'].split('/')[-1] # Getting the file name from the URL\n",
    "    with open(f'images/{file_name}.jpg', 'wb') as f: # Writing the image data to a file\n",
    "        f.write(img_data)\n",
    "    time.sleep(0.25) "
   ]
  },
  {
   "cell_type": "markdown",
   "metadata": {},
   "source": [
    "And get the dominant colours via K-means"
   ]
  },
  {
   "cell_type": "code",
   "execution_count": 53,
   "metadata": {},
   "outputs": [],
   "source": [
    "def get_dominant_color_kmeans(image_path, k=3):\n",
    "    image = Image.open(image_path)\n",
    "    image = image.resize((50, 50))  # Reduce size to speed up processing\n",
    "    pixels = np.array(image).reshape(-1, 3)  # Convert to RGB\n",
    "    kmeans = KMeans(n_clusters=k, random_state=42).fit(pixels)\n",
    "    # reject v dark colours - they're the background\n",
    "    colour_clusters = kmeans.cluster_centers_.astype(int)\n",
    "    colour_clusters = colour_clusters[colour_clusters.sum(axis=1) > 100]  \n",
    "    return colour_clusters[0]\n",
    "\n",
    "df['image_path'] = df['image'].apply(lambda x: f'images/{x.split(\"/\")[-1]}.jpg') # Adding a column with the path to the image file\n",
    "df['dominant_color'] = df['image_path'].apply(get_dominant_color_kmeans) # Adding a column with the dominant color of the image"
   ]
  },
  {
   "cell_type": "code",
   "execution_count": 54,
   "metadata": {},
   "outputs": [],
   "source": [
    "def display_clusters(cluster_centers):\n",
    "    cluster_centers = np.array(cluster_centers, dtype=int)  # Ensure integer values\n",
    "\n",
    "    plt.figure(figsize=(len(cluster_centers), 1))\n",
    "    \n",
    "    for i, color in enumerate(cluster_centers):\n",
    "        plt.fill_between([i, i + 1], 0, 1, color=np.array(color) / 255)  # Normalize RGB to [0,1]\n",
    "\n",
    "    plt.xlim(0, len(cluster_centers))\n",
    "    plt.ylim(0, 1)\n",
    "    plt.axis(\"off\")  # Hide axes\n",
    "    plt.show()"
   ]
  },
  {
   "cell_type": "markdown",
   "metadata": {},
   "source": [
    "Let's take a look at all our products with their dominant colours."
   ]
  },
  {
   "cell_type": "code",
   "execution_count": null,
   "metadata": {},
   "outputs": [],
   "source": [
    "# loop over the images and dominant colors\n",
    "for img_path, dominant_color in zip(df['image_path'], df['dominant_color']):\n",
    "    image = Image.open(img_path)\n",
    "    display(image.resize((150, int(150 * image.height / image.width)))) # Displaying the image with a maximum width of 150\n",
    "    display_clusters([dominant_color]) # Displaying the dominant color of the image\n"
   ]
  },
  {
   "cell_type": "markdown",
   "metadata": {},
   "source": [
    "And asign dominant colours by comparing the dominant colour to a list of known colours."
   ]
  },
  {
   "cell_type": "code",
   "execution_count": 66,
   "metadata": {},
   "outputs": [],
   "source": [
    "colour_categories = {\n",
    "    \"cream\": np.array([223, 220, 207]),  # Soft beige/cream\n",
    "    \"dark green\": np.array([27, 48, 34]),  # Deep green\n",
    "    \"purple\": np.array([160, 37, 122]),  # A strong purple\n",
    "    \"yellow\": np.array([215, 182, 64])  # Warm yellow\n",
    "}\n",
    "\n",
    "def find_closest_colour_category(colour):\n",
    "    colour = np.array(colour)\n",
    "    distances = {name: np.linalg.norm(colour - rgb) for name, rgb in colour_categories.items()}\n",
    "    return min(distances, key=distances.get)\n",
    "\n",
    "df['colour_category'] = df['dominant_color'].apply(find_closest_colour_category) # Adding a column with the closest colour category\n",
    "df['rank_in_colour'] = df.groupby('colour_category')['rank'].rank() # Adding a column with the rank of the product within its colour category - this doesn't actually mean anything - it's just for our chart below"
   ]
  },
  {
   "cell_type": "code",
   "execution_count": 72,
   "metadata": {},
   "outputs": [
    {
     "name": "stderr",
     "output_type": "stream",
     "text": [
      "/Users/finn/anaconda3/envs/workshop/lib/python3.11/site-packages/altair/utils/core.py:395: FutureWarning: the convert_dtype parameter is deprecated and will be removed in a future version.  Do ``ser.astype(object).apply()`` instead if you want ``convert_dtype=False``.\n",
      "/Users/finn/anaconda3/envs/workshop/lib/python3.11/site-packages/altair/utils/core.py:395: FutureWarning: the convert_dtype parameter is deprecated and will be removed in a future version.  Do ``ser.astype(object).apply()`` instead if you want ``convert_dtype=False``.\n",
      "/Users/finn/anaconda3/envs/workshop/lib/python3.11/site-packages/altair/utils/core.py:395: FutureWarning: the convert_dtype parameter is deprecated and will be removed in a future version.  Do ``ser.astype(object).apply()`` instead if you want ``convert_dtype=False``.\n",
      "/Users/finn/anaconda3/envs/workshop/lib/python3.11/site-packages/altair/utils/core.py:395: FutureWarning: the convert_dtype parameter is deprecated and will be removed in a future version.  Do ``ser.astype(object).apply()`` instead if you want ``convert_dtype=False``.\n",
      "/Users/finn/anaconda3/envs/workshop/lib/python3.11/site-packages/altair/utils/core.py:395: FutureWarning: the convert_dtype parameter is deprecated and will be removed in a future version.  Do ``ser.astype(object).apply()`` instead if you want ``convert_dtype=False``.\n",
      "/Users/finn/anaconda3/envs/workshop/lib/python3.11/site-packages/altair/utils/core.py:395: FutureWarning: the convert_dtype parameter is deprecated and will be removed in a future version.  Do ``ser.astype(object).apply()`` instead if you want ``convert_dtype=False``.\n"
     ]
    },
    {
     "data": {
      "text/html": [
       "\n",
       "<style>\n",
       "  #altair-viz-b329e298922b4824be245392382d3aff.vega-embed {\n",
       "    width: 100%;\n",
       "    display: flex;\n",
       "  }\n",
       "\n",
       "  #altair-viz-b329e298922b4824be245392382d3aff.vega-embed details,\n",
       "  #altair-viz-b329e298922b4824be245392382d3aff.vega-embed details summary {\n",
       "    position: relative;\n",
       "  }\n",
       "</style>\n",
       "<div id=\"altair-viz-b329e298922b4824be245392382d3aff\"></div>\n",
       "<script type=\"text/javascript\">\n",
       "  var VEGA_DEBUG = (typeof VEGA_DEBUG == \"undefined\") ? {} : VEGA_DEBUG;\n",
       "  (function(spec, embedOpt){\n",
       "    let outputDiv = document.currentScript.previousElementSibling;\n",
       "    if (outputDiv.id !== \"altair-viz-b329e298922b4824be245392382d3aff\") {\n",
       "      outputDiv = document.getElementById(\"altair-viz-b329e298922b4824be245392382d3aff\");\n",
       "    }\n",
       "    const paths = {\n",
       "      \"vega\": \"https://cdn.jsdelivr.net/npm/vega@5?noext\",\n",
       "      \"vega-lib\": \"https://cdn.jsdelivr.net/npm/vega-lib?noext\",\n",
       "      \"vega-lite\": \"https://cdn.jsdelivr.net/npm/vega-lite@5.8.0?noext\",\n",
       "      \"vega-embed\": \"https://cdn.jsdelivr.net/npm/vega-embed@6?noext\",\n",
       "    };\n",
       "\n",
       "    function maybeLoadScript(lib, version) {\n",
       "      var key = `${lib.replace(\"-\", \"\")}_version`;\n",
       "      return (VEGA_DEBUG[key] == version) ?\n",
       "        Promise.resolve(paths[lib]) :\n",
       "        new Promise(function(resolve, reject) {\n",
       "          var s = document.createElement('script');\n",
       "          document.getElementsByTagName(\"head\")[0].appendChild(s);\n",
       "          s.async = true;\n",
       "          s.onload = () => {\n",
       "            VEGA_DEBUG[key] = version;\n",
       "            return resolve(paths[lib]);\n",
       "          };\n",
       "          s.onerror = () => reject(`Error loading script: ${paths[lib]}`);\n",
       "          s.src = paths[lib];\n",
       "        });\n",
       "    }\n",
       "\n",
       "    function showError(err) {\n",
       "      outputDiv.innerHTML = `<div class=\"error\" style=\"color:red;\">${err}</div>`;\n",
       "      throw err;\n",
       "    }\n",
       "\n",
       "    function displayChart(vegaEmbed) {\n",
       "      vegaEmbed(outputDiv, spec, embedOpt)\n",
       "        .catch(err => showError(`Javascript Error: ${err.message}<br>This usually means there's a typo in your chart specification. See the javascript console for the full traceback.`));\n",
       "    }\n",
       "\n",
       "    if(typeof define === \"function\" && define.amd) {\n",
       "      requirejs.config({paths});\n",
       "      require([\"vega-embed\"], displayChart, err => showError(`Error loading script: ${err.message}`));\n",
       "    } else {\n",
       "      maybeLoadScript(\"vega\", \"5\")\n",
       "        .then(() => maybeLoadScript(\"vega-lite\", \"5.8.0\"))\n",
       "        .then(() => maybeLoadScript(\"vega-embed\", \"6\"))\n",
       "        .catch(showError)\n",
       "        .then(() => displayChart(vegaEmbed));\n",
       "    }\n",
       "  })({\"config\": {\"view\": {\"continuousWidth\": 300, \"continuousHeight\": 300}}, \"data\": {\"name\": \"data-b046d19fb4c0d1ff9c23c1188cb61771\"}, \"mark\": {\"type\": \"image\", \"height\": 45, \"opacity\": 0.7, \"width\": 45}, \"encoding\": {\"url\": {\"field\": \"image\", \"title\": \"Product URL\", \"type\": \"nominal\"}, \"x\": {\"field\": \"colour_category\", \"title\": \"Colour Category\", \"type\": \"nominal\"}, \"y\": {\"field\": \"rank_in_colour\", \"title\": \"\", \"type\": \"quantitative\"}}, \"height\": 400, \"title\": \"M&S Plants\", \"width\": 600, \"$schema\": \"https://vega.github.io/schema/vega-lite/v5.8.0.json\", \"datasets\": {\"data-b046d19fb4c0d1ff9c23c1188cb61771\": [{\"name\": \"Rose Trough\", \"price\": 25, \"rating\": 4.5168, \"url\": \"http://www.marksandspencer.com/yellow-rose-trough/p/flp21035215#intid=pid_pg1pip44g2r1c1\", \"image\": \"https://assets.digitalcontent.marksandspencer.app/image/upload/w_1024,q_auto,f_auto/SD_FD_F44A_00457873_NC_X_EC_90\", \"rank\": 1, \"image_path\": \"images/SD_FD_F44A_00457873_NC_X_EC_90.jpg\", \"dominant_color\": [215, 182, 64], \"colour_category\": \"yellow\", \"rank_in_colour\": 1.0}, {\"name\": \"Oriental Lily\", \"price\": 28, \"rating\": 4.6421, \"url\": \"http://www.marksandspencer.com/oriental-lily/p/flp21037669#intid=pid_pg1pip44g2r1c2\", \"image\": \"https://assets.digitalcontent.marksandspencer.app/image/upload/w_1024,q_auto,f_auto/SD_FD_F44A_00557771_NC_X_EC_90\", \"rank\": 2, \"image_path\": \"images/SD_FD_F44A_00557771_NC_X_EC_90.jpg\", \"dominant_color\": [203, 139, 149], \"colour_category\": \"yellow\", \"rank_in_colour\": 2.0}, {\"name\": \"Yellow Miniature Phalaenopsis Orchid in Ceramic Pot\", \"price\": 20, \"rating\": 4.6731, \"url\": \"http://www.marksandspencer.com/yellow-miniature-phalaenopsis-orchid-in-ceramic-pot/p/flp60492619#intid=pid_pg1pip44g2r2c1\", \"image\": \"https://assets.digitalcontent.marksandspencer.app/image/upload/w_1024,q_auto,f_auto/SD_FD_F44A_29126477_NC_X_EC_90\", \"rank\": 3, \"image_path\": \"images/SD_FD_F44A_29126477_NC_X_EC_90.jpg\", \"dominant_color\": [27, 48, 34], \"colour_category\": \"dark green\", \"rank_in_colour\": 1.0}, {\"name\": \"Rose Plant with Marc De Champagne Truffles\", \"price\": 30, \"rating\": 4.5821, \"url\": \"http://www.marksandspencer.com/rose-plant-with-ceramic-pot-and-chocolates/p/flp60514073#intid=pid_pg1pip44g2r2c2\", \"image\": \"https://assets.digitalcontent.marksandspencer.app/image/upload/w_1024,q_auto,f_auto/SD_FD_F44A_29171859_NC_X_EC_90\", \"rank\": 4, \"image_path\": \"images/SD_FD_F44A_29171859_NC_X_EC_90.jpg\", \"dominant_color\": [223, 135, 57], \"colour_category\": \"yellow\", \"rank_in_colour\": 3.0}, {\"name\": \"Spring Flowering Basket\", \"price\": 35, \"rating\": 4.4146, \"url\": \"http://www.marksandspencer.com/summer-flowering-basket/p/flp60178395#intid=pid_pg1pip44g2r3c1\", \"image\": \"https://assets.digitalcontent.marksandspencer.app/image/upload/w_1024,q_auto,f_auto/SD_FD_F44A_00172851_NC_X_EC_90\", \"rank\": 5, \"image_path\": \"images/SD_FD_F44A_00172851_NC_X_EC_90.jpg\", \"dominant_color\": [202, 196, 137], \"colour_category\": \"yellow\", \"rank_in_colour\": 4.0}, {\"name\": \"Stephanotis Hoop in Ceramic Pot\", \"price\": 40, \"rating\": 5.0, \"url\": \"http://www.marksandspencer.com/stephanotis-hoop-in-ceramic-pot/p/flp60751330#intid=pid_pg1pip44g2r3c2\", \"image\": \"https://assets.digitalcontent.marksandspencer.app/image/upload/w_1024,q_auto,f_auto/SD_FD_F44A_29461219_NC_X_EC_90\", \"rank\": 6, \"image_path\": \"images/SD_FD_F44A_29461219_NC_X_EC_90.jpg\", \"dominant_color\": [195, 191, 157], \"colour_category\": \"cream\", \"rank_in_colour\": 1.0}, {\"name\": \"Miniature Pink Orchid with Marc de Champagne Truffles\", \"price\": 25, \"rating\": 4.7778, \"url\": \"http://www.marksandspencer.com/miniature-pink-phalaenopsis-orchid-ceramic-and-swiss-truffles-bundle/p/flp60704271#intid=pid_pg1pip44g2r4c1\", \"image\": \"https://assets.digitalcontent.marksandspencer.app/image/upload/w_1024,q_auto,f_auto/SD_FD_F44A_29414550_NC_X_EC_90\", \"rank\": 7, \"image_path\": \"images/SD_FD_F44A_29414550_NC_X_EC_90.jpg\", \"dominant_color\": [147, 83, 127], \"colour_category\": \"purple\", \"rank_in_colour\": 1.0}, {\"name\": \"Minature Twin-Stem Phaelanopsis Orchid in Ceramic with Marc du Champagne Truffles 125g Bundle\", \"price\": 25, \"rating\": 4.7273, \"url\": \"http://www.marksandspencer.com/miniature-yellow-phalaenopsis-orchid-ceramic-and-swiss-truffles-bundle/p/flp60704270#intid=pid_pg1pip44g2r4c2\", \"image\": \"https://assets.digitalcontent.marksandspencer.app/image/upload/w_1024,q_auto,f_auto/SD_FD_F44A_29414567_NC_X_EC_90\", \"rank\": 8, \"image_path\": \"images/SD_FD_F44A_29414567_NC_X_EC_90.jpg\", \"dominant_color\": [198, 187, 76], \"colour_category\": \"yellow\", \"rank_in_colour\": 5.0}, {\"name\": \"White Miniature Phalaenopsis Orchid in Ceramic Pot\", \"price\": 20, \"rating\": 4.7553, \"url\": \"http://www.marksandspencer.com/white-miniature-phalaenopsis-orchid-in-ceramic-pot/p/flp60492617#intid=pid_pg1pip44g2r5c1\", \"image\": \"https://assets.digitalcontent.marksandspencer.app/image/upload/w_1024,q_auto,f_auto/SD_FD_F44A_29126446_NC_X_EC_90\", \"rank\": 9, \"image_path\": \"images/SD_FD_F44A_29126446_NC_X_EC_90.jpg\", \"dominant_color\": [95, 101, 64], \"colour_category\": \"dark green\", \"rank_in_colour\": 2.0}, {\"name\": \"Purple Miniature Phalaenopsis Cascade Orchid in Ceramic Pot\", \"price\": 25, \"rating\": 4.4356, \"url\": \"http://www.marksandspencer.com/purple-miniature-phalaenopsis-cascade-orchid-in-ceramic-pot/p/flp60492615#intid=pid_pg1pip44g2r5c2\", \"image\": \"https://assets.digitalcontent.marksandspencer.app/image/upload/w_1024,q_auto,f_auto/SD_FD_F44A_29126392_NC_X_EC_90\", \"rank\": 10, \"image_path\": \"images/SD_FD_F44A_29126392_NC_X_EC_90.jpg\", \"dominant_color\": [129, 56, 110], \"colour_category\": \"purple\", \"rank_in_colour\": 2.0}, {\"name\": \"Olive Tree in Hessian Gift Bag\", \"price\": 50, \"rating\": 4.3801, \"url\": \"http://www.marksandspencer.com/olive-tree-in-bag/p/flp60178572#intid=pid_pg1pip44g2r6c1\", \"image\": \"https://assets.digitalcontent.marksandspencer.app/image/upload/w_1024,q_auto,f_auto/SD_FD_F44A_00173285_NC_X_EC_90\", \"rank\": 11, \"image_path\": \"images/SD_FD_F44A_00173285_NC_X_EC_90.jpg\", \"dominant_color\": [134, 139, 84], \"colour_category\": \"yellow\", \"rank_in_colour\": 6.0}, {\"name\": \"Large White Phalaenopsis Orchid in Ceramic Pot\", \"price\": 35, \"rating\": 4.2892, \"url\": \"http://www.marksandspencer.com/large-white-phalaenopsis-orchid-in-ceramic-pot/p/flp60257986#intid=pid_pg1pip44g2r6c2\", \"image\": \"https://assets.digitalcontent.marksandspencer.app/image/upload/w_1024,q_auto,f_auto/SD_FD_F44A_00354493_NC_X_EC_90\", \"rank\": 12, \"image_path\": \"images/SD_FD_F44A_00354493_NC_X_EC_90.jpg\", \"dominant_color\": [223, 220, 207], \"colour_category\": \"cream\", \"rank_in_colour\": 2.0}, {\"name\": \"Large Purple Phalaenopsis Orchid in Ceramic Pot\", \"price\": 35, \"rating\": 4.4301, \"url\": \"http://www.marksandspencer.com/large-purple-phalaenopsis-orchid-in-ceramic-pot/p/flp60187446#intid=pid_pg1pip44g2r7c1\", \"image\": \"https://assets.digitalcontent.marksandspencer.app/image/upload/w_1024,q_auto,f_auto/SD_FD_F44A_00206549_NC_X_EC_90\", \"rank\": 13, \"image_path\": \"images/SD_FD_F44A_00206549_NC_X_EC_90.jpg\", \"dominant_color\": [160, 37, 122], \"colour_category\": \"purple\", \"rank_in_colour\": 3.0}, {\"name\": \"White Miniature Phalaenopsis Cascade Orchid in Ceramic Pot\", \"price\": 25, \"rating\": 4.6127, \"url\": \"http://www.marksandspencer.com/white-miniature-phalaenopsis-cascade-orchid-in-ceramic-pot/p/flp60492616#intid=pid_pg1pip44g2r7c2\", \"image\": \"https://assets.digitalcontent.marksandspencer.app/image/upload/w_1024,q_auto,f_auto/SD_FD_F44A_29126415_NC_X_EC_90\", \"rank\": 14, \"image_path\": \"images/SD_FD_F44A_29126415_NC_X_EC_90.jpg\", \"dominant_color\": [151, 132, 103], \"colour_category\": \"yellow\", \"rank_in_colour\": 7.0}, {\"name\": \"Miniature White Orchid with Marc de Champagne Truffles\", \"price\": 25, \"rating\": 4.9394, \"url\": \"http://www.marksandspencer.com/miniature-white-phalaenopsis-orchid-ceramic-and-swiss-truffles-bundle/p/flp60704272#intid=pid_pg1pip44g2r8c1\", \"image\": \"https://assets.digitalcontent.marksandspencer.app/image/upload/w_1024,q_auto,f_auto/SD_FD_F44A_29414543_NC_X_EC_90\", \"rank\": 15, \"image_path\": \"images/SD_FD_F44A_29414543_NC_X_EC_90.jpg\", \"dominant_color\": [98, 104, 68], \"colour_category\": \"dark green\", \"rank_in_colour\": 3.0}, {\"name\": \"Gigi Rose Planter\", \"price\": 35, \"rating\": 4.2667, \"url\": \"http://www.marksandspencer.com/gigi-rose-planter/p/flp60648837#intid=pid_pg1pip44g2r8c2\", \"image\": \"https://assets.digitalcontent.marksandspencer.app/image/upload/w_1024,q_auto,f_auto/SD_FD_F44A_29388844_NC_X_EC_90\", \"rank\": 16, \"image_path\": \"images/SD_FD_F44A_29388844_NC_X_EC_90.jpg\", \"dominant_color\": [42, 48, 21], \"colour_category\": \"dark green\", \"rank_in_colour\": 4.0}, {\"name\": \"Thinking Of You Rose Plant\", \"price\": 28, \"rating\": 4.3446, \"url\": \"http://www.marksandspencer.com/thinking-of-you-rose/p/flp60068735#intid=pid_pg1pip44g2r9c1\", \"image\": \"https://assets.digitalcontent.marksandspencer.app/image/upload/w_1024,q_auto,f_auto/SD_FD_F44A_00034791_NC_X_EC_90\", \"rank\": 17, \"image_path\": \"images/SD_FD_F44A_00034791_NC_X_EC_90.jpg\", \"dominant_color\": [159, 148, 109], \"colour_category\": \"yellow\", \"rank_in_colour\": 8.0}, {\"name\": \"Calathea Crocata Plant in Ceramic Pot\", \"price\": 30, \"rating\": 4.625, \"url\": \"http://www.marksandspencer.com/flowering-calathea-in-ceramic-pot/p/flp60643198#intid=pid_pg1pip44g2r9c2\", \"image\": \"https://assets.digitalcontent.marksandspencer.app/image/upload/w_1024,q_auto,f_auto/SD_FD_F44A_29385096_NC_X_EC_90\", \"rank\": 18, \"image_path\": \"images/SD_FD_F44A_29385096_NC_X_EC_90.jpg\", \"dominant_color\": [78, 81, 42], \"colour_category\": \"dark green\", \"rank_in_colour\": 5.0}, {\"name\": \"Camellia in Hessian Bag\", \"price\": 40, \"rating\": 4.6105, \"url\": \"http://www.marksandspencer.com/camelia/p/flp60502936#intid=pid_pg1pip44g2r10c1\", \"image\": \"https://assets.digitalcontent.marksandspencer.app/image/upload/w_1024,q_auto,f_auto/SD_FD_F44A_29149377_NC_X_EC_90\", \"rank\": 19, \"image_path\": \"images/SD_FD_F44A_29149377_NC_X_EC_90.jpg\", \"dominant_color\": [175, 187, 168], \"colour_category\": \"cream\", \"rank_in_colour\": 3.0}, {\"name\": \"Miniature White Orchid with Marc de Champagne Truffles\", \"price\": 30, \"rating\": 4.6667, \"url\": \"http://www.marksandspencer.com/miniature-white-cascade-orchid-and-swiss-truffles-bundle/p/flp60704273#intid=pid_pg1pip44g2r10c2\", \"image\": \"https://assets.digitalcontent.marksandspencer.app/image/upload/w_1024,q_auto,f_auto/SD_FD_F44A_29414536_NC_X_EC_90\", \"rank\": 20, \"image_path\": \"images/SD_FD_F44A_29414536_NC_X_EC_90.jpg\", \"dominant_color\": [195, 188, 175], \"colour_category\": \"cream\", \"rank_in_colour\": 4.0}, {\"name\": \"Miniature Purple Cascade Orchid with Marc De Champagne Truffles\", \"price\": 30, \"rating\": 4.625, \"url\": \"http://www.marksandspencer.com/miniature-purple-cascade-orchid-ceramic-and-swiss-truffles-bundle/p/flp60704274#intid=pid_pg1pip44g2r11c1\", \"image\": \"https://assets.digitalcontent.marksandspencer.app/image/upload/w_1024,q_auto,f_auto/SD_FD_F44A_29414529_NC_X_EC_90\", \"rank\": 21, \"image_path\": \"images/SD_FD_F44A_29414529_NC_X_EC_90.jpg\", \"dominant_color\": [182, 140, 153], \"colour_category\": \"yellow\", \"rank_in_colour\": 9.0}, {\"name\": \"Bay Tree in Hessian Gift Bag\", \"price\": 45, \"rating\": 5.0, \"url\": \"http://www.marksandspencer.com/bay-tree/p/flp60751363#intid=pid_pg1pip44g2r11c2\", \"image\": \"https://assets.digitalcontent.marksandspencer.app/image/upload/w_1024,q_auto,f_auto/SD_FD_F44A_29461370_NC_X_EC_90\", \"rank\": 22, \"image_path\": \"images/SD_FD_F44A_29461370_NC_X_EC_90.jpg\", \"dominant_color\": [65, 80, 37], \"colour_category\": \"dark green\", \"rank_in_colour\": 6.0}, {\"name\": \"Celebration Rose Plant\", \"price\": 28, \"rating\": 4.5379, \"url\": \"http://www.marksandspencer.com/celebration-rose-plant/p/flp60068698#intid=pid_pg1pip44g2r12c1\", \"image\": \"https://assets.digitalcontent.marksandspencer.app/image/upload/w_1024,q_auto,f_auto/SD_FD_F44A_00034784_NC_X_EC_90\", \"rank\": 23, \"image_path\": \"images/SD_FD_F44A_00034784_NC_X_EC_90.jpg\", \"dominant_color\": [159, 148, 108], \"colour_category\": \"yellow\", \"rank_in_colour\": 10.0}, {\"name\": \"Large Monstera (Swiss Cheese Plant)\", \"price\": 30, \"rating\": 4.3333, \"url\": \"http://www.marksandspencer.com/large-monstera-swiss-cheese-plant/p/flp60547334#intid=pid_pg1pip44g2r12c2\", \"image\": \"https://assets.digitalcontent.marksandspencer.app/image/upload/w_1024,q_auto,f_auto/SD_FD_F44A_29227426_NC_X_EC_90\", \"rank\": 24, \"image_path\": \"images/SD_FD_F44A_29227426_NC_X_EC_90.jpg\", \"dominant_color\": [86, 106, 45], \"colour_category\": \"dark green\", \"rank_in_colour\": 7.0}, {\"name\": \"Medium Calathea in Ceramic Pot\", \"price\": 28, \"rating\": 4.7303, \"url\": \"http://www.marksandspencer.com/medium-calathea-in-ceramic-pot/p/flp60554045#intid=pid_pg1pip44g2r13c1\", \"image\": \"https://assets.digitalcontent.marksandspencer.app/image/upload/w_1024,q_auto,f_auto/SD_FD_F44A_29235759_NC_X_EC_90\", \"rank\": 25, \"image_path\": \"images/SD_FD_F44A_29235759_NC_X_EC_90.jpg\", \"dominant_color\": [133, 146, 89], \"colour_category\": \"yellow\", \"rank_in_colour\": 11.0}, {\"name\": \"Mum's Pink Luxury Rose Basket\", \"price\": 40, \"rating\": 3.8095, \"url\": \"http://www.marksandspencer.com/luxury-rose-basket/p/flp60514521#intid=pid_pg1pip44g2r13c2\", \"image\": \"https://assets.digitalcontent.marksandspencer.app/image/upload/w_1024,q_auto,f_auto/SD_FD_F44A_29172306_NC_X_EC_90\", \"rank\": 26, \"image_path\": \"images/SD_FD_F44A_29172306_NC_X_EC_90.jpg\", \"dominant_color\": [104, 90, 66], \"colour_category\": \"dark green\", \"rank_in_colour\": 8.0}, {\"name\": \"Mum In A Million Rose Plant\", \"price\": 28, \"rating\": 4.2, \"url\": \"http://www.marksandspencer.com/mum-in-a-million-rose/p/flp60005179#intid=pid_pg1pip44g2r14c1\", \"image\": \"https://assets.digitalcontent.marksandspencer.app/image/upload/w_1024,q_auto,f_auto/SD_FD_F44A_00789950_NC_X_EC_90\", \"rank\": 27, \"image_path\": \"images/SD_FD_F44A_00789950_NC_X_EC_90.jpg\", \"dominant_color\": [71, 64, 29], \"colour_category\": \"dark green\", \"rank_in_colour\": 9.0}, {\"name\": \"Large Monstera On Moss Pole\", \"price\": 40, \"rating\": 4.3333, \"url\": \"http://www.marksandspencer.com/large-monstera-on-moss-pole/p/flp60726548#intid=pid_pg1pip44g2r14c2\", \"image\": \"https://assets.digitalcontent.marksandspencer.app/image/upload/w_1024,q_auto,f_auto/SD_FD_F44A_29437795_NC_X_EC_90\", \"rank\": 28, \"image_path\": \"images/SD_FD_F44A_29437795_NC_X_EC_90.jpg\", \"dominant_color\": [132, 153, 80], \"colour_category\": \"yellow\", \"rank_in_colour\": 12.0}, {\"name\": \"Duo Purple Phalaenopsis Planter & Belgian Chocolates Bundle\", \"price\": 55, \"rating\": 4.9167, \"url\": \"http://www.marksandspencer.com/duo-purple-phalaenopsis-planter-and-belgian-chocolates-bundle/p/flp60704214#intid=pid_pg1pip44g2r15c1\", \"image\": \"https://assets.digitalcontent.marksandspencer.app/image/upload/w_1024,q_auto,f_auto/SD_FD_F44A_29414574_NC_X_EC_90\", \"rank\": 29, \"image_path\": \"images/SD_FD_F44A_29414574_NC_X_EC_90.jpg\", \"dominant_color\": [181, 111, 158], \"colour_category\": \"purple\", \"rank_in_colour\": 4.0}, {\"name\": \"White Orchid Cascade in Silver Glass Pot\", \"price\": 65, \"rating\": 4.3617, \"url\": \"http://www.marksandspencer.com/luxury-white-phalaenopsis-orchid-cascade-in-gold-glass/p/flp60547297#intid=pid_pg1pip44g2r15c2\", \"image\": \"https://assets.digitalcontent.marksandspencer.app/image/upload/w_1024,q_auto,f_auto/SD_FD_F44A_29227631_NC_X_EC_90\", \"rank\": 30, \"image_path\": \"images/SD_FD_F44A_29227631_NC_X_EC_90.jpg\", \"dominant_color\": [212, 211, 202], \"colour_category\": \"cream\", \"rank_in_colour\": 5.0}, {\"name\": \"Hydrangea Plant in Terracotta Pot\", \"price\": 40, \"rating\": 4.4118, \"url\": \"http://www.marksandspencer.com/white-hydrangea-tin/p/flp60502976#intid=pid_pg1pip44g2r18c2\", \"image\": \"https://assets.digitalcontent.marksandspencer.app/image/upload/w_1024,q_auto,f_auto/SD_FD_F44A_29149537_NC_X_EC_90\", \"rank\": 36, \"image_path\": \"images/SD_FD_F44A_29149537_NC_X_EC_90.jpg\", \"dominant_color\": [228, 224, 204], \"colour_category\": \"cream\", \"rank_in_colour\": 6.0}]}}, {\"mode\": \"vega-lite\"});\n",
       "</script>"
      ],
      "text/plain": [
       "alt.Chart(...)"
      ]
     },
     "execution_count": 72,
     "metadata": {},
     "output_type": "execute_result"
    }
   ],
   "source": [
    "alt.Chart(df).mark_image(\n",
    "    width=45,\n",
    "    height=45,\n",
    "    opacity=0.7\n",
    ").encode(\n",
    "    x=alt.X(\"colour_category:N\", title=\"Colour Category\"),\n",
    "    y=alt.Y(\"rank_in_colour:Q\", title=\"\"),\n",
    "    url=alt.Url(\"image:N\", title=\"Product URL\"),\n",
    ").properties(\n",
    "    title=\"M&S Plants\",\n",
    "    width=600,\n",
    "    height=400\n",
    ")\n",
    "    "
   ]
  },
  {
   "cell_type": "markdown",
   "metadata": {},
   "source": [
    "# Where from here?\n",
    "\n",
    "Today, we've scraped the products from one page of products from a retailer website. IF you want to continue this project or expand your skills, here are some options:\n",
    "\n",
    "1. **Scraping Other Pages**: Turn the scraping code above into a method and call it with the URLs of other results. \n",
    "2. **Scraping the whole site**: As an advanced extension, also try automating the building of this list by scraping the page menu bar. Then scrape every category.\n",
    "3. **Collect and compare prices**: Run this code on a few dates, see how prices change. Flower prices might be elevated in the UK with Mothers' day in a few days - do they fall after?"
   ]
  },
  {
   "cell_type": "markdown",
   "metadata": {},
   "source": [
    "# Extension: Scraping More\n",
    "\n",
    "At present, we're scraping one page for ~46 products.\n",
    "\n",
    "This is a good start but it'd be more useful to have a tool that can scrape all the products in a page - or even the whole category or website.\n",
    "\n",
    "## A Method to Scrape a Page\n",
    "\n",
    "Above, to scrape a page, we:\n",
    "\n",
    "1. Find all the product divs\n",
    "2. Find the accesibility labels\n",
    "3. Extract product information from accesibility labels\n",
    "\n",
    "Let's move this all to a function\n",
    "\n",
    "#### Task: Complete scrape_one_page\n",
    "\n",
    "Look at the code earlier on ('Finding more product information') and incorporate it into the function below in order to scrape one page. See the `TODO` labels for guidance. "
   ]
  },
  {
   "cell_type": "code",
   "execution_count": 3,
   "metadata": {},
   "outputs": [],
   "source": [
    "def scrape_one_page(url):\n",
    "    \"\"\"\n",
    "    (str) -> pd.DataFrame\n",
    "    Given a URL for a page of products, scrape the product details and return a DataFrame\n",
    "    \"\"\"\n",
    "    print(f\"Scraping {url}\") # Printing the URL we're scraping\n",
    "    req = requests.get(url) # Making a request for the M&S plants page\n",
    "\n",
    "    # TODO: Make a soup object from the request text\n",
    "    soup = BeautifulSoup(req.text, 'html.parser') # Parsing the HTML using BeautifulSoup and the built-in HTML parser\n",
    "\n",
    "    products = [] # Creating an empty list to store the product details\n",
    "    product_divs = soup.find_all('div', attrs={'data-tagg': lambda x: x and \"product-card\" in x}) # Using a lambda function to find all divs with data-tagg attribute that contain \"product-card\" and potentially other values\n",
    "    for i, product_div in enumerate(product_divs): # Looping through the first 10 product divs\n",
    "        a_tag = product_div.find('a') # Finding the first a tag in the product div \n",
    "        aria_label = a_tag['aria-label'] #Get the value of the aria-label attribute of the a tag\n",
    "\n",
    "        product_details = product_details_from_label(aria_label) # Using the function to get the product details from the aria-label\n",
    "\n",
    "        # extract the product link from the a tag\n",
    "        product_details['url'] = a_tag['href'] # Getting the value of the href attribute of the a tag\n",
    "        product_details['url'] = \"http://www.marksandspencer.com\" + product_details['url'] # Adding the base URL to the product URL\n",
    "\n",
    "        # extract the image link from the a tag\n",
    "        img_tags = a_tag.find_all('img') # Finding the first img tag in the a tag\n",
    "        product_details['image'] = img_tags[-1]['src'] # Getting the value of the src attribute of the img tag\n",
    "\n",
    "        # add the rank of the product\n",
    "        product_details['rank'] = i + 1 # Adding the rank of the product\n",
    "\n",
    "        products.append(product_details) # Appending the product details to the list of products\n",
    "\n",
    "    return pd.DataFrame(products) # Creating a DataFrame from the list of products\n"
   ]
  },
  {
   "cell_type": "markdown",
   "metadata": {},
   "source": [
    "Let's try the function out on another category:"
   ]
  },
  {
   "cell_type": "code",
   "execution_count": 6,
   "metadata": {},
   "outputs": [
    {
     "name": "stdout",
     "output_type": "stream",
     "text": [
      "Scraping https://www.marksandspencer.com/l/gifts/food-and-drink-gifts?sort=best_seller+desc&page=10\n"
     ]
    },
    {
     "data": {
      "text/html": [
       "<div>\n",
       "<style scoped>\n",
       "    .dataframe tbody tr th:only-of-type {\n",
       "        vertical-align: middle;\n",
       "    }\n",
       "\n",
       "    .dataframe tbody tr th {\n",
       "        vertical-align: top;\n",
       "    }\n",
       "\n",
       "    .dataframe thead th {\n",
       "        text-align: right;\n",
       "    }\n",
       "</style>\n",
       "<table border=\"1\" class=\"dataframe\">\n",
       "  <thead>\n",
       "    <tr style=\"text-align: right;\">\n",
       "      <th></th>\n",
       "      <th>name</th>\n",
       "      <th>price</th>\n",
       "      <th>details</th>\n",
       "      <th>rating</th>\n",
       "      <th>url</th>\n",
       "      <th>image</th>\n",
       "      <th>rank</th>\n",
       "    </tr>\n",
       "  </thead>\n",
       "  <tbody>\n",
       "    <tr>\n",
       "      <th>0</th>\n",
       "      <td>Pink Prosecco Afternoon Tea</td>\n",
       "      <td>55</td>\n",
       "      <td>Free Delivery</td>\n",
       "      <td>4.68</td>\n",
       "      <td>http://www.marksandspencer.com/pink-prosecco-a...</td>\n",
       "      <td>https://asset1.cxnmarksandspencer.com/is/image...</td>\n",
       "      <td>1</td>\n",
       "    </tr>\n",
       "    <tr>\n",
       "      <th>1</th>\n",
       "      <td>The M&amp;S Collection Hamper</td>\n",
       "      <td>55</td>\n",
       "      <td>Free Delivery</td>\n",
       "      <td>4.61</td>\n",
       "      <td>http://www.marksandspencer.com/the-mands-colle...</td>\n",
       "      <td>https://asset1.cxnmarksandspencer.com/is/image...</td>\n",
       "      <td>2</td>\n",
       "    </tr>\n",
       "    <tr>\n",
       "      <th>2</th>\n",
       "      <td>Pamper Night In Letterbox</td>\n",
       "      <td>25</td>\n",
       "      <td>Free Delivery</td>\n",
       "      <td>5</td>\n",
       "      <td>http://www.marksandspencer.com/pamper-letterbo...</td>\n",
       "      <td>https://asset1.cxnmarksandspencer.com/is/image...</td>\n",
       "      <td>3</td>\n",
       "    </tr>\n",
       "    <tr>\n",
       "      <th>3</th>\n",
       "      <td>Scent With Love Gift Box</td>\n",
       "      <td>65</td>\n",
       "      <td>Free Delivery</td>\n",
       "      <td>4</td>\n",
       "      <td>http://www.marksandspencer.com/with-love-hampe...</td>\n",
       "      <td>https://asset1.cxnmarksandspencer.com/is/image...</td>\n",
       "      <td>4</td>\n",
       "    </tr>\n",
       "    <tr>\n",
       "      <th>4</th>\n",
       "      <td>Easter Afternoon Tea Wicker (Delivery from 26t...</td>\n",
       "      <td>50</td>\n",
       "      <td>Free Delivery</td>\n",
       "      <td>NaN</td>\n",
       "      <td>http://www.marksandspencer.com/easter-afternoo...</td>\n",
       "      <td>https://asset1.cxnmarksandspencer.com/is/image...</td>\n",
       "      <td>5</td>\n",
       "    </tr>\n",
       "  </tbody>\n",
       "</table>\n",
       "</div>"
      ],
      "text/plain": [
       "                                                name price         details  \\\n",
       "0                        Pink Prosecco Afternoon Tea    55   Free Delivery   \n",
       "1                          The M&S Collection Hamper    55   Free Delivery   \n",
       "2                          Pamper Night In Letterbox    25   Free Delivery   \n",
       "3                           Scent With Love Gift Box    65   Free Delivery   \n",
       "4  Easter Afternoon Tea Wicker (Delivery from 26t...    50   Free Delivery   \n",
       "\n",
       "  rating                                                url  \\\n",
       "0   4.68  http://www.marksandspencer.com/pink-prosecco-a...   \n",
       "1   4.61  http://www.marksandspencer.com/the-mands-colle...   \n",
       "2      5  http://www.marksandspencer.com/pamper-letterbo...   \n",
       "3      4  http://www.marksandspencer.com/with-love-hampe...   \n",
       "4    NaN  http://www.marksandspencer.com/easter-afternoo...   \n",
       "\n",
       "                                               image  rank  \n",
       "0  https://asset1.cxnmarksandspencer.com/is/image...     1  \n",
       "1  https://asset1.cxnmarksandspencer.com/is/image...     2  \n",
       "2  https://asset1.cxnmarksandspencer.com/is/image...     3  \n",
       "3  https://asset1.cxnmarksandspencer.com/is/image...     4  \n",
       "4  https://asset1.cxnmarksandspencer.com/is/image...     5  "
      ]
     },
     "execution_count": 6,
     "metadata": {},
     "output_type": "execute_result"
    }
   ],
   "source": [
    "url = \"https://www.marksandspencer.com/l/gifts/food-and-drink-gifts?sort=best_seller+desc&page=10\"\n",
    "page_products = scrape_one_page(url) # Using the function to scrape the first page of products\n",
    "page_products.head() # let's take a peek at the first 5 products"
   ]
  },
  {
   "cell_type": "markdown",
   "metadata": {},
   "source": [
    "#### Task: Scraping a Whole Category\n",
    "\n",
    "It would be good to not have to specify every page `url`. Let's write a function where we can specify just a category and then scrape it."
   ]
  },
  {
   "cell_type": "code",
   "execution_count": 7,
   "metadata": {},
   "outputs": [],
   "source": [
    "def scrape_category(category_route):\n",
    "    \"\"\"\n",
    "    (str) -> pd.DataFrame\n",
    "    Given a category route, scrape all the products from all the pages and return a DataFrame\n",
    "    \"\"\"\n",
    "    page_number = 1 # Starting at page 1\n",
    "\n",
    "    # Scrape the first page of products\n",
    "    url = f\"{category_route}?page={page_number}&sort=best_seller+desc\" # Creating the URL for the current page\n",
    "    products_df = scrape_one_page(url) # Using the function to scrape the current page of products\n",
    "    unique_product_count = len(products_df.drop_duplicates(subset=['name'])) # Counting the number of unique products - we'll stop scraping when we're not collecting any more unique products\n",
    "\n",
    "    while True: # Looping forever until we're not collecting any more products\n",
    "        url = f\"{category_route}?page={page_number}&sort=best_seller+desc\" # Creating the URL for the current page\n",
    "        page_products = scrape_one_page(url) # Using the function to scrape the current page of products\n",
    "\n",
    "        # merge the new products with the old ones\n",
    "        products_df = pd.concat([products_df, page_products])\n",
    "\n",
    "        # if the number of unique products has not changed, we're done\n",
    "        if len(products_df.drop_duplicates(subset=['name'])) == unique_product_count: \n",
    "            break\n",
    "        \n",
    "        page_number += 1 # Incrementing the page number\n",
    "        time.sleep(1)\n",
    "    return products_df # Concatenating the list of products into a single DataFrame"
   ]
  },
  {
   "cell_type": "code",
   "execution_count": 8,
   "metadata": {},
   "outputs": [
    {
     "name": "stdout",
     "output_type": "stream",
     "text": [
      "Scraping http://www.marksandspencer.com/l/gifts/food-and-drink-gifts?page=1&sort=best_seller+desc\n",
      "Scraping http://www.marksandspencer.com/l/gifts/food-and-drink-gifts?page=1&sort=best_seller+desc\n"
     ]
    }
   ],
   "source": [
    "category_route = \"http://www.marksandspencer.com/l/gifts/food-and-drink-gifts\"\n",
    "food_and_drink_gifts = scrape_category(category_route) # Using the function to scrape the category"
   ]
  },
  {
   "cell_type": "markdown",
   "metadata": {},
   "source": [
    "## Advanced Extension Task: Identifying Categories to Scrape\n",
    "\n",
    "What is we didn't even have to identify the categories ourselves?\n",
    "\n",
    "The M&S website has a list of brands in its navigation bar. Can we extract these categories?\n",
    "\n",
    "<img src=\"https://raw.githubusercontent.com/FM-ds/ScrapingWorkshop/main/notebook_images/brands.png\" width=\"600\">\n",
    "\n"
   ]
  },
  {
   "cell_type": "code",
   "execution_count": 9,
   "metadata": {},
   "outputs": [
    {
     "data": {
      "text/plain": [
       "[<a class=\"media-0_body__yf6Z_ css-1ij2a02 e1jg0iio0 style_link__b1QHC style_primary__Hz1U6\" href=\"#main-content\" style=\"--link-color:#222222;--link-secondary-border-color:#ffffff;--link-primary-background:#ffffff;--link-primary-border-color:#ffffff\">Skip to content<span aria-label=\"\" class=\"render-svg_renderSvg__n5Nsc render-svg_canBeColoured__ArUTs icon style_arrowIcon__jmv3J\" role=\"presentation\" style=\"--render-svg-icon-color:#222222;--render-svg-icon-url:url('https://static.marksandspencer.com/icons/svgs/ArrowRight-v3-1.svg?key=v3');--render-svg-height:24px;--render-svg-width:24px;--render-svg-background-size:18px\"></span></a>,\n",
       " <a class=\"media-0_textSm__Q52Mz media-0_noTextDecoration__I3GOV\" href=\"https://www.marksandspencer.com/c/style-and-living/category/mands-live?showId=2f0ca3be-8fbb-4111-9074-f8bc24266cbf#intid=sitestripe_1_what%20to%20wear%20on%20a%20night%20out\" style=\"color:#ffffff;font-family:var(--mns-fonts-primary-semi-bold)\">What to wear on a night out</a>,\n",
       " <a class=\"media-0_textSm__Q52Mz media-0_noTextDecoration__I3GOV\" href=\"https://www.marksandspencer.com/c/style-and-living/category/mands-live?showId=ccf793d9-d568-419b-adaf-0a502b84d9d9#intid=sitestripe_2_everything%20they%20need%20for%20school%20\" style=\"color:#ffffff;font-family:var(--mns-fonts-primary-semi-bold)\">Everything they need for school </a>,\n",
       " <a class=\"media-0_textSm__Q52Mz media-0_noTextDecoration__I3GOV\" href=\"https://www.marksandspencer.com/c/style-and-living/category/mands-live?showId=e56fad1c-3d98-44c6-8baa-e74dabcca6a9#intid=sitestripe_3_a%20skincare%20masterclass%20from%20prai\" style=\"color:#ffffff;font-family:var(--mns-fonts-primary-semi-bold)\">A skincare masterclass from Prai</a>,\n",
       " <a class=\"style_link__nHHaK style_default__oKQvA style_textDecoration__CKwcZ style_textDecorationOnHover__CeFSS css-1myysn5 e15w4eki8\" href=\"/c/help-and-support\" style=\"--link-background-color:transparent;--link-color:inherit;--link-display:inline-flex;--link-font-size:var(--mns-fonts-size-400);--link-text-decoration:none;--link-text-decoration-on-hover:underline\"><style data-emotion=\"css v5igdj\">.css-v5igdj{line-height:1.3;}</style><span class=\"media-0_textSm__Q52Mz css-v5igdj e15w4eki7\" style=\"color:white\">Help</span></a>]"
      ]
     },
     "execution_count": 9,
     "metadata": {},
     "output_type": "execute_result"
    }
   ],
   "source": [
    "# Find all the links on the page\n",
    "soup = BeautifulSoup(requests.get(\"https://www.marksandspencer.com\").text, 'html.parser') # Parsing the HTML using BeautifulSoup and the built-in HTML parser\n",
    "links = soup.find_all('a') # Finding all the links on the page\n",
    "links[:5]\n"
   ]
  },
  {
   "cell_type": "code",
   "execution_count": 10,
   "metadata": {},
   "outputs": [
    {
     "data": {
      "text/plain": [
       "['https://www.marksandspencer.com/l/brands/lk-bennett#intid=gnav_Women_Brands_LK-Bennett',\n",
       " 'https://www.marksandspencer.com/l/brands/puma#intid=gnav_Women_Brands_PUMA',\n",
       " 'https://www.marksandspencer.com/l/brands/reebok/womens#intid=gnav_Women_Brands_Reebok',\n",
       " 'https://www.marksandspencer.com/l/brands/skechers/womens#intid=gnav_Women_Brands_Skechers',\n",
       " 'https://www.marksandspencer.com/l/brands/the-sports-edit#intid=gnav_Women_Brands_The-Sports-Edit']"
      ]
     },
     "execution_count": 10,
     "metadata": {},
     "output_type": "execute_result"
    }
   ],
   "source": [
    "# find only the links with the form https://www.marksandspencer.com/l/brands\n",
    "brand__links = [link['href'] for link in links if link['href'].startswith(\"https://www.marksandspencer.com/l/brands\")] # Finding only the links with the form https://www.marksandspencer.com/l/brands\n",
    "brand__links[:5]\n"
   ]
  },
  {
   "cell_type": "markdown",
   "metadata": {},
   "source": [
    "Now let's try scraping the first five of these:"
   ]
  },
  {
   "cell_type": "code",
   "execution_count": 11,
   "metadata": {},
   "outputs": [
    {
     "name": "stdout",
     "output_type": "stream",
     "text": [
      "https://www.marksandspencer.com/l/brands/lk-bennett#intid=gnav_Women_Brands_LK-Bennett\n",
      "Scraping https://www.marksandspencer.com/l/brands/lk-bennett#intid=gnav_Women_Brands_LK-Bennett?page=1&sort=best_seller+desc\n",
      "Scraping https://www.marksandspencer.com/l/brands/lk-bennett#intid=gnav_Women_Brands_LK-Bennett?page=1&sort=best_seller+desc\n",
      "https://www.marksandspencer.com/l/brands/puma#intid=gnav_Women_Brands_PUMA\n",
      "Scraping https://www.marksandspencer.com/l/brands/puma#intid=gnav_Women_Brands_PUMA?page=1&sort=best_seller+desc\n",
      "Scraping https://www.marksandspencer.com/l/brands/puma#intid=gnav_Women_Brands_PUMA?page=1&sort=best_seller+desc\n",
      "https://www.marksandspencer.com/l/brands/reebok/womens#intid=gnav_Women_Brands_Reebok\n",
      "Scraping https://www.marksandspencer.com/l/brands/reebok/womens#intid=gnav_Women_Brands_Reebok?page=1&sort=best_seller+desc\n",
      "Scraping https://www.marksandspencer.com/l/brands/reebok/womens#intid=gnav_Women_Brands_Reebok?page=1&sort=best_seller+desc\n",
      "https://www.marksandspencer.com/l/brands/skechers/womens#intid=gnav_Women_Brands_Skechers\n",
      "Scraping https://www.marksandspencer.com/l/brands/skechers/womens#intid=gnav_Women_Brands_Skechers?page=1&sort=best_seller+desc\n",
      "Scraping https://www.marksandspencer.com/l/brands/skechers/womens#intid=gnav_Women_Brands_Skechers?page=1&sort=best_seller+desc\n",
      "https://www.marksandspencer.com/l/brands/the-sports-edit#intid=gnav_Women_Brands_The-Sports-Edit\n",
      "Scraping https://www.marksandspencer.com/l/brands/the-sports-edit#intid=gnav_Women_Brands_The-Sports-Edit?page=1&sort=best_seller+desc\n",
      "Scraping https://www.marksandspencer.com/l/brands/the-sports-edit#intid=gnav_Women_Brands_The-Sports-Edit?page=1&sort=best_seller+desc\n"
     ]
    }
   ],
   "source": [
    "all_products_dfs = []\n",
    "\n",
    "for brand_url in brand__links[:5]: # Looping through the first 5 brand URLs\n",
    "    print(brand_url) # Printing each brand URL\n",
    "\n",
    "    # scrape the category\n",
    "    category_df = scrape_category(brand_url) # Using the function to scrape the category\n",
    "    category_df['category'] = brand_url.replace(\"https://www.marksandspencer.com/l/brands/\", \"\").split(\"#\")[0]\n",
    "\n",
    "    all_products_dfs.append(category_df) # Appending the category DataFrame to the list of all category DataFrames\n",
    "    all_products_df = pd.concat(all_products_dfs) # Concatenating the list of category DataFrames into a single DataFrame\n",
    "\n",
    "    time.sleep(1) # Sleeping for 1 second\n"
   ]
  },
  {
   "cell_type": "code",
   "execution_count": 13,
   "metadata": {},
   "outputs": [
    {
     "data": {
      "text/html": [
       "<div>\n",
       "<style scoped>\n",
       "    .dataframe tbody tr th:only-of-type {\n",
       "        vertical-align: middle;\n",
       "    }\n",
       "\n",
       "    .dataframe tbody tr th {\n",
       "        vertical-align: top;\n",
       "    }\n",
       "\n",
       "    .dataframe thead th {\n",
       "        text-align: right;\n",
       "    }\n",
       "</style>\n",
       "<table border=\"1\" class=\"dataframe\">\n",
       "  <thead>\n",
       "    <tr style=\"text-align: right;\">\n",
       "      <th></th>\n",
       "      <th>name</th>\n",
       "      <th>price</th>\n",
       "      <th>url</th>\n",
       "      <th>image</th>\n",
       "      <th>rank</th>\n",
       "      <th>category</th>\n",
       "      <th>details</th>\n",
       "      <th>rating</th>\n",
       "    </tr>\n",
       "  </thead>\n",
       "  <tbody>\n",
       "    <tr>\n",
       "      <th>0</th>\n",
       "      <td>Printed Collared Puff Sleeve Peplum Blouse</td>\n",
       "      <td>199</td>\n",
       "      <td>http://www.marksandspencer.com/printed-collare...</td>\n",
       "      <td>https://asset1.cxnmarksandspencer.com/is/image...</td>\n",
       "      <td>1</td>\n",
       "      <td>lk-bennett</td>\n",
       "      <td>NaN</td>\n",
       "      <td>NaN</td>\n",
       "    </tr>\n",
       "    <tr>\n",
       "      <th>1</th>\n",
       "      <td>Printed Trousers</td>\n",
       "      <td>199</td>\n",
       "      <td>http://www.marksandspencer.com/printed-trouser...</td>\n",
       "      <td>https://asset1.cxnmarksandspencer.com/is/image...</td>\n",
       "      <td>2</td>\n",
       "      <td>lk-bennett</td>\n",
       "      <td>NaN</td>\n",
       "      <td>NaN</td>\n",
       "    </tr>\n",
       "    <tr>\n",
       "      <th>2</th>\n",
       "      <td>Pure Cotton Collared Midi Shirt Dress</td>\n",
       "      <td>259</td>\n",
       "      <td>http://www.marksandspencer.com/pure-cotton-col...</td>\n",
       "      <td>https://asset1.cxnmarksandspencer.com/is/image...</td>\n",
       "      <td>3</td>\n",
       "      <td>lk-bennett</td>\n",
       "      <td>NaN</td>\n",
       "      <td>NaN</td>\n",
       "    </tr>\n",
       "    <tr>\n",
       "      <th>3</th>\n",
       "      <td>Tweed Collarless Cropped Jacket</td>\n",
       "      <td>329</td>\n",
       "      <td>http://www.marksandspencer.com/tweed-collarles...</td>\n",
       "      <td>https://asset1.cxnmarksandspencer.com/is/image...</td>\n",
       "      <td>4</td>\n",
       "      <td>lk-bennett</td>\n",
       "      <td>NaN</td>\n",
       "      <td>NaN</td>\n",
       "    </tr>\n",
       "    <tr>\n",
       "      <th>4</th>\n",
       "      <td>Pure Cotton Collared Cropped Jacket</td>\n",
       "      <td>299</td>\n",
       "      <td>http://www.marksandspencer.com/pure-cotton-col...</td>\n",
       "      <td>https://asset1.cxnmarksandspencer.com/is/image...</td>\n",
       "      <td>5</td>\n",
       "      <td>lk-bennett</td>\n",
       "      <td>NaN</td>\n",
       "      <td>NaN</td>\n",
       "    </tr>\n",
       "    <tr>\n",
       "      <th>...</th>\n",
       "      <td>...</td>\n",
       "      <td>...</td>\n",
       "      <td>...</td>\n",
       "      <td>...</td>\n",
       "      <td>...</td>\n",
       "      <td>...</td>\n",
       "      <td>...</td>\n",
       "      <td>...</td>\n",
       "    </tr>\n",
       "    <tr>\n",
       "      <th>43</th>\n",
       "      <td>Elevated Cotton Rich Wide Leg Joggers</td>\n",
       "      <td>42.50 - £66.50</td>\n",
       "      <td>http://www.marksandspencer.com/elevated-cotton...</td>\n",
       "      <td>https://asset1.cxnmarksandspencer.com/is/image...</td>\n",
       "      <td>44</td>\n",
       "      <td>the-sports-edit</td>\n",
       "      <td>The Sports Edit</td>\n",
       "      <td>2.67</td>\n",
       "    </tr>\n",
       "    <tr>\n",
       "      <th>44</th>\n",
       "      <td>Chill Athletic Crew Neck Racer Back Vest Top</td>\n",
       "      <td>27</td>\n",
       "      <td>http://www.marksandspencer.com/chill-athletic-...</td>\n",
       "      <td>https://asset1.cxnmarksandspencer.com/is/image...</td>\n",
       "      <td>45</td>\n",
       "      <td>the-sports-edit</td>\n",
       "      <td>The Sports Edit</td>\n",
       "      <td>NaN</td>\n",
       "    </tr>\n",
       "    <tr>\n",
       "      <th>45</th>\n",
       "      <td>Classic Leather Lace Up Trainers</td>\n",
       "      <td>80</td>\n",
       "      <td>http://www.marksandspencer.com/classic-leather...</td>\n",
       "      <td>https://asset1.cxnmarksandspencer.com/is/image...</td>\n",
       "      <td>46</td>\n",
       "      <td>the-sports-edit</td>\n",
       "      <td>The Sports Edit</td>\n",
       "      <td>4.83</td>\n",
       "    </tr>\n",
       "    <tr>\n",
       "      <th>46</th>\n",
       "      <td>Arahi 6 Trainers</td>\n",
       "      <td>129 - £130</td>\n",
       "      <td>http://www.marksandspencer.com/lace-up-trainer...</td>\n",
       "      <td>https://asset1.cxnmarksandspencer.com/is/image...</td>\n",
       "      <td>47</td>\n",
       "      <td>the-sports-edit</td>\n",
       "      <td>The Sports Edit</td>\n",
       "      <td>4.31</td>\n",
       "    </tr>\n",
       "    <tr>\n",
       "      <th>47</th>\n",
       "      <td>Club C 85 Leather Lace Up Trainers</td>\n",
       "      <td>80</td>\n",
       "      <td>http://www.marksandspencer.com/club-c-85-leath...</td>\n",
       "      <td>https://asset1.cxnmarksandspencer.com/is/image...</td>\n",
       "      <td>48</td>\n",
       "      <td>the-sports-edit</td>\n",
       "      <td>The Sports Edit</td>\n",
       "      <td>4.7</td>\n",
       "    </tr>\n",
       "  </tbody>\n",
       "</table>\n",
       "<p>462 rows × 8 columns</p>\n",
       "</div>"
      ],
      "text/plain": [
       "                                            name            price  \\\n",
       "0     Printed Collared Puff Sleeve Peplum Blouse              199   \n",
       "1                               Printed Trousers              199   \n",
       "2          Pure Cotton Collared Midi Shirt Dress              259   \n",
       "3                Tweed Collarless Cropped Jacket              329   \n",
       "4            Pure Cotton Collared Cropped Jacket              299   \n",
       "..                                           ...              ...   \n",
       "43         Elevated Cotton Rich Wide Leg Joggers   42.50 - £66.50   \n",
       "44  Chill Athletic Crew Neck Racer Back Vest Top               27   \n",
       "45              Classic Leather Lace Up Trainers               80   \n",
       "46                              Arahi 6 Trainers       129 - £130   \n",
       "47            Club C 85 Leather Lace Up Trainers               80   \n",
       "\n",
       "                                                  url  \\\n",
       "0   http://www.marksandspencer.com/printed-collare...   \n",
       "1   http://www.marksandspencer.com/printed-trouser...   \n",
       "2   http://www.marksandspencer.com/pure-cotton-col...   \n",
       "3   http://www.marksandspencer.com/tweed-collarles...   \n",
       "4   http://www.marksandspencer.com/pure-cotton-col...   \n",
       "..                                                ...   \n",
       "43  http://www.marksandspencer.com/elevated-cotton...   \n",
       "44  http://www.marksandspencer.com/chill-athletic-...   \n",
       "45  http://www.marksandspencer.com/classic-leather...   \n",
       "46  http://www.marksandspencer.com/lace-up-trainer...   \n",
       "47  http://www.marksandspencer.com/club-c-85-leath...   \n",
       "\n",
       "                                                image  rank         category  \\\n",
       "0   https://asset1.cxnmarksandspencer.com/is/image...     1       lk-bennett   \n",
       "1   https://asset1.cxnmarksandspencer.com/is/image...     2       lk-bennett   \n",
       "2   https://asset1.cxnmarksandspencer.com/is/image...     3       lk-bennett   \n",
       "3   https://asset1.cxnmarksandspencer.com/is/image...     4       lk-bennett   \n",
       "4   https://asset1.cxnmarksandspencer.com/is/image...     5       lk-bennett   \n",
       "..                                                ...   ...              ...   \n",
       "43  https://asset1.cxnmarksandspencer.com/is/image...    44  the-sports-edit   \n",
       "44  https://asset1.cxnmarksandspencer.com/is/image...    45  the-sports-edit   \n",
       "45  https://asset1.cxnmarksandspencer.com/is/image...    46  the-sports-edit   \n",
       "46  https://asset1.cxnmarksandspencer.com/is/image...    47  the-sports-edit   \n",
       "47  https://asset1.cxnmarksandspencer.com/is/image...    48  the-sports-edit   \n",
       "\n",
       "             details rating  \n",
       "0                NaN    NaN  \n",
       "1                NaN    NaN  \n",
       "2                NaN    NaN  \n",
       "3                NaN    NaN  \n",
       "4                NaN    NaN  \n",
       "..               ...    ...  \n",
       "43   The Sports Edit   2.67  \n",
       "44   The Sports Edit    NaN  \n",
       "45   The Sports Edit   4.83  \n",
       "46   The Sports Edit   4.31  \n",
       "47   The Sports Edit    4.7  \n",
       "\n",
       "[462 rows x 8 columns]"
      ]
     },
     "execution_count": 13,
     "metadata": {},
     "output_type": "execute_result"
    }
   ],
   "source": [
    "all_products = pd.concat(all_products_dfs) # Concatenating the list of all category DataFrames into a single DataFrame\n",
    "all_products"
   ]
  },
  {
   "cell_type": "markdown",
   "metadata": {},
   "source": [
    "It works! In ~12 seconds, we scraped 460 products."
   ]
  },
  {
   "cell_type": "code",
   "execution_count": null,
   "metadata": {},
   "outputs": [],
   "source": []
  }
 ],
 "metadata": {
  "kernelspec": {
   "display_name": "workshop",
   "language": "python",
   "name": "python3"
  },
  "language_info": {
   "codemirror_mode": {
    "name": "ipython",
    "version": 3
   },
   "file_extension": ".py",
   "mimetype": "text/x-python",
   "name": "python",
   "nbconvert_exporter": "python",
   "pygments_lexer": "ipython3",
   "version": "3.11.11"
  }
 },
 "nbformat": 4,
 "nbformat_minor": 2
}
