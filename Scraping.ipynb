{
 "cells": [
  {
   "cell_type": "code",
   "execution_count": null,
   "metadata": {},
   "outputs": [],
   "source": [
    "pip install altair plotnine BeautifulSoup4"
   ]
  },
  {
   "cell_type": "code",
   "execution_count": 6,
   "metadata": {},
   "outputs": [],
   "source": [
    "import requests\n",
    "from bs4 import BeautifulSoup\n",
    "import numpy as np\n",
    "import pandas as pd\n",
    "import altair as alt\n",
    "from plotnine import ggplot, geom_point, aes, stat_smooth, facet_wrap"
   ]
  },
  {
   "cell_type": "markdown",
   "metadata": {},
   "source": [
    "# Web Scraping\n",
    "\n",
    "This notebook introduces web scraping with the `requests` and `BeautifulSoup` modules using the scraping of a British retailer, M&S, as an example.\n",
    "First, scraping is demonstrated on some very simple HTML, then we will move to the real website.\n",
    "\n",
    "# A Basic Example\n",
    "## 1. Searching HTML with `BeautifulSoup`\n",
    "\n",
    "BeautifulSoup is a Python library for parsing HTML documents. We can use it to extract data from HTML we fetch from the web but first we'll try it out with a simple HTML example."
   ]
  },
  {
   "cell_type": "code",
   "execution_count": 33,
   "metadata": {},
   "outputs": [],
   "source": [
    "sample_html = \"\"\"\n",
    "<html>\n",
    "<body>\n",
    "    <h1> BeautifulSoup </h1>\n",
    "    <p> BeautifulSoup is a Python library for parsing HTML documents. We can use it to extract data from HTML we fetch\n",
    "        from the web.\n",
    "        Here, we're just using it to parse some simple sample HTML. </p>\n",
    "\n",
    "    <h2 class=\"important\"> Searching the tree </h2>\n",
    "    <p id=\"searching_description\" style=\"color: red\"> BeautifulSoup allows us to search the HTML tree in lots of different ways: by tag, by\n",
    "        id, by CSS class, and so on. </p>\n",
    "    <ol>\n",
    "        <li role=\"example_1\"> By tag: we could search for every li </li>\n",
    "        <li role=\"example_2\"> By id: we could search for the p tag with id=\"searching_description\" </li>\n",
    "        <li role=\"example_3\" class=\"important\"> By class: we could search for every tag with a given class </li>\n",
    "        <li> and so on... </li>\n",
    "    </ol>\n",
    "\n",
    "<body>\n",
    "</html>\n",
    "\"\"\""
   ]
  },
  {
   "cell_type": "markdown",
   "metadata": {},
   "source": [
    "At present the `sample_html` is just a string. In order to search through it, we'll create a Soup object with beautifulSoup - a searchable object representation. "
   ]
  },
  {
   "cell_type": "code",
   "execution_count": 34,
   "metadata": {},
   "outputs": [],
   "source": [
    "soup = BeautifulSoup(sample_html, 'html.parser') # Parsing the HTML using BeautifulSoup and the built-in HTML parser "
   ]
  },
  {
   "cell_type": "markdown",
   "metadata": {},
   "source": [
    "We can now search the `soup` object to extract useful information. Let's try searching by tag, id, and class:\n",
    "\n",
    "**First, by tag:** let's find the text of every list element (`<li>`) on the page:"
   ]
  },
  {
   "cell_type": "code",
   "execution_count": 35,
   "metadata": {},
   "outputs": [
    {
     "name": "stdout",
     "output_type": "stream",
     "text": [
      " By tag: we could search for every li \n",
      " By id: we could search for the p tag with id=\"searching_description\" \n",
      " By class: we could search for every tag with a given class \n",
      " and so on... \n"
     ]
    }
   ],
   "source": [
    "list_elements = soup.find_all('li') # Finding all the list elements in the HTML\n",
    "for element in list_elements:\n",
    "    print(element.text) # Printing the text of each list element"
   ]
  },
  {
   "cell_type": "markdown",
   "metadata": {},
   "source": [
    "**Next, by id** let's find what the paragraph (`<p>`) with the `id` `searching_description` says and let's also take a look at its style."
   ]
  },
  {
   "cell_type": "code",
   "execution_count": 36,
   "metadata": {},
   "outputs": [
    {
     "name": "stdout",
     "output_type": "stream",
     "text": [
      "text:  BeautifulSoup allows us to search the HTML tree in lots of different ways: by tag, by\n",
      "        id, by CSS class, and so on. \n",
      "style: color: red\n"
     ]
    }
   ],
   "source": [
    "# instead of using find_all, we can use find to find the first element that matches the search criteria\n",
    "description_element = soup.find('p', {'id': 'searching_description'}) # Finding the paragraph with id=\"searching_description\"\n",
    "description_element\n",
    "\n",
    "print('text:', description_element.text) # Printing the text of the paragraph with id=\"searching_description\"\n",
    "print('style:', description_element['style']) # Printing the value of the style attribute of the paragraph with id=\"searching_description\""
   ]
  },
  {
   "cell_type": "markdown",
   "metadata": {},
   "source": [
    "**by class:** let's find all elements with the `class` `important`"
   ]
  },
  {
   "cell_type": "code",
   "execution_count": 37,
   "metadata": {},
   "outputs": [
    {
     "name": "stdout",
     "output_type": "stream",
     "text": [
      "There are 2 elements with class='important'\n",
      "<h2 class=\"important\"> Searching the tree </h2>\n",
      "<li class=\"important\" role=\"example_3\"> By class: we could search for every tag with a given class </li>\n"
     ]
    }
   ],
   "source": [
    "important_elements = soup.find_all(class_='important') # Finding all the elements with class=\"important\"\n",
    "print(f\"There are {len(important_elements)} elements with class='important'\")\n",
    "for element in important_elements:\n",
    "    print(element) # Printing each element with class=\"important\""
   ]
  },
  {
   "cell_type": "markdown",
   "metadata": {},
   "source": [
    "**finally**, we can search in any way we want by supplying a function of our own \n",
    "\n",
    "let's write a simple function that identifies whether an element's `role` attribute that starts with `example-`"
   ]
  },
  {
   "cell_type": "code",
   "execution_count": 52,
   "metadata": {},
   "outputs": [
    {
     "data": {
      "text/plain": [
       "[<li role=\"example_1\"> By tag: we could search for every li </li>,\n",
       " <li role=\"example_2\"> By id: we could search for the p tag with id=\"searching_description\" </li>,\n",
       " <li class=\"important\" role=\"example_3\"> By class: we could search for every tag with a given class </li>]"
      ]
     },
     "execution_count": 52,
     "metadata": {},
     "output_type": "execute_result"
    }
   ],
   "source": [
    "def important_role(role_attribute):\n",
    "    return role_attribute != None and 'example_' in role_attribute\n",
    "\n",
    "# Find the first <ol> element\n",
    "ol_element = soup.find('ol')\n",
    "ol_element.find_all('li', role=important_role) # Finding all the list elements with a role attribute that contains 'example-'"
   ]
  },
  {
   "cell_type": "markdown",
   "metadata": {},
   "source": [
    "## 2. Getting HTML from the web with `Requests`\n",
    "\n",
    "<div style=\"display: flex; align-items: flex-start;\">\n",
    "    <div style=\"flex: 0 2 auto;\">\n",
    "        <img src=\"https://raw.githubusercontent.com/FM-ds/ScrapingWorkshop/main/notebook_images/sample_html_safari.png\" width=\"400px\">\n",
    "    </div>\n",
    "    <div style=\"flex: 1 1 auto; margin-top: 10px; margin-right: 150px\">\n",
    "        <p>We just extracted information from HTML which was defined locally in a string <code>sample_html</code>. Usually, we care about HTML found on the internet. As a simple example, the page defined in <code>sample_html</code> is available at <a href=\"http://www.fmcevoy.io/ScrapingWorkshop/sample_html\">http://www.fmcevoy.io/ScrapingWorkshop/sample_html</a></p>\n",
    "        <p>To download HTML (and any other resources) from the internet, we can use the <code>requests</code> module.</p>\n",
    "    </div>\n",
    "</div>\n"
   ]
  },
  {
   "cell_type": "code",
   "execution_count": 12,
   "metadata": {},
   "outputs": [
    {
     "data": {
      "text/plain": [
       "'<html>\\n<body>\\n    <h1> BeautifulSoup </h1>\\n    <p> BeautifulSoup is a Python library for parsing HTML documents. We can use it to extract data from HTML we fetch\\n        from the web.\\n        Here, we\\'re just using it to parse some simple sample HTML. </p>\\n\\n    <h2 class=\"important\"> Searching the tree </h2>\\n    <p id=\"searching_description\" style=\"color: red\"> BeautifulSoup allows us to search the HTML tree in lots of different ways: by tag, by\\n        id, by CSS class, and so on. </p>\\n    <ol>\\n        <li> By tag: we could search for every li </li>\\n        <li> By id: we could search for the p tag with id=\"searching_description\" </li>\\n        <li class=\"important\"> By class: we could search for every tag with a given class </li>\\n    </ol>\\n\\n<body>\\n</html>'"
      ]
     },
     "execution_count": 12,
     "metadata": {},
     "output_type": "execute_result"
    }
   ],
   "source": [
    "req = requests.get('http://www.fmcevoy.io/ScrapingWorkshop/sample_html') # Making a request for the sample HTML hosted on the web\n",
    "req.text # looking at the text of the response"
   ]
  },
  {
   "cell_type": "markdown",
   "metadata": {},
   "source": [
    "We can then make a traversable `soup` object using the response and search as we did before."
   ]
  },
  {
   "cell_type": "code",
   "execution_count": 13,
   "metadata": {},
   "outputs": [
    {
     "data": {
      "text/plain": [
       "[<li> By tag: we could search for every li </li>,\n",
       " <li> By id: we could search for the p tag with id=\"searching_description\" </li>,\n",
       " <li class=\"important\"> By class: we could search for every tag with a given class </li>]"
      ]
     },
     "execution_count": 13,
     "metadata": {},
     "output_type": "execute_result"
    }
   ],
   "source": [
    "soup = BeautifulSoup(req.text, 'html.parser') # Instead of using the sample HTML, we're using the HTML from the web that we fetched in the previous step\n",
    "soup.find_all('li') # Finding all the list elements in the HTML"
   ]
  },
  {
   "cell_type": "markdown",
   "metadata": {},
   "source": [
    "# A Useful Example: Scraping Prices from M&S\n",
    "\n",
    "<div style=\"display: flex; align-items: flex-start;\">\n",
    "    <div style=\"flex: 0 1.75 auto; \">\n",
    "        <img src=\"https://raw.githubusercontent.com/FM-ds/ScrapingWorkshop/main/notebook_images/ms_plants.png\" width=\"500px\">\n",
    "    </div>\n",
    "    <div style=\"flex: 1 1 auto; margin-top: 10px; margin-right: 150px\">\n",
    "        Scraping the sample html is a basic introduction. Let's move to collecting some real-world data.\n",
    "\n",
    "Marks and Spencers is a high-end British supermarket. Let's see if we can collect prices from one of their pages. Josh and I scrape around 100K prices every day to investigate inflation but there are lots of other uses for this data as well:\n",
    "\n",
    "- **Price Comparisons**: You could make a supermarket vs supermarket price comparison tool\n",
    "- **Market Research**: Maybe you want to investigate pricing of your competitors\n",
    "- **Procurement**: Waiting for sales to emerge\n",
    "\n",
    "Today, we'll try scraping prices from just one page, Marks and Spencers' plants: https://www.marksandspencer.com/l/flowers-and-plants/plants?sort=best_seller+desc \n",
    "    </div>\n",
    "</div>\n",
    "\n",
    "\n"
   ]
  },
  {
   "cell_type": "markdown",
   "metadata": {},
   "source": [
    "## Identifying Structure with Inspect Element\n",
    "\n",
    "Before we write any code, we should use inspect element to see how prices, pictures and more are defined in the HTML.\n",
    "\n",
    "<img src=\"https://raw.githubusercontent.com/FM-ds/ScrapingWorkshop/main/notebook_images/ms_inspect_element.png\" width=\"800vw\">\n",
    "\n",
    "There are lots of elements and intimidating details but here we can see:\n",
    "\n",
    "- Product Details are contained in `<div>` elements with a `data-tagg` attribute that starts with `product-card-`\n",
    "- Product Titles are found in `<h2>` elements within the `product-card-` divs\n",
    "\n",
    "We can also see that the `<a>` tag (a link) has the `aria-label` defined. The `aria-label` is part of the ARIA standard (Accessible Rich Internet Applications) which helps make websites more accessible. We can use this description for our own benefit though."
   ]
  },
  {
   "cell_type": "markdown",
   "metadata": {},
   "source": [
    "\n",
    "## Extracting Product Info\n",
    "\n",
    "First, we'll download the HTML from the M&S site and then we'll search for all the product cards to find their titles."
   ]
  },
  {
   "cell_type": "code",
   "execution_count": 14,
   "metadata": {},
   "outputs": [],
   "source": [
    "url = \"https://www.marksandspencer.com/l/flowers-and-plants/plants?sort=best_seller+desc\"\n",
    "req = requests.get(url) # Making a request for the M&S plants page\n",
    "soup = BeautifulSoup(req.text, 'html.parser') # Parsing the HTML using BeautifulSoup and the built-in HTML parser"
   ]
  },
  {
   "cell_type": "markdown",
   "metadata": {},
   "source": [
    "### Product Titles\n",
    "\n",
    "Let's try and find all the `product-card-` divs and then look for the `<a>` with the aria label in each one.\n",
    "\n",
    "First we'll build a list of all divs that contain product details by searching for all elements with the data-tagg attribute that contain \"product-card\".\n",
    "\n",
    "For each of these product divs, we'll then search for the `<a>` tag with the `aria-label` attribute, the first `<a>` tag in each `product-card-` `div`."
   ]
  },
  {
   "cell_type": "code",
   "execution_count": 15,
   "metadata": {},
   "outputs": [
    {
     "name": "stdout",
     "output_type": "stream",
     "text": [
      "Product name is Spring Flowering Basket, Price is £30, Product is Free Delivery, Rating is 4.37 out of 5\n",
      "Product name is Rose Trough, Price is £25, Product is Free Delivery, Rating is 4.51 out of 5\n",
      "Product name is Yellow Miniature Phalaenopsis Orchid in Ceramic Pot, Price is £20, Product is Free Delivery, Rating is 4.58 out of 5\n",
      "Product name is White Miniature Phalaenopsis Orchid in Ceramic Pot, Price is £20, Product is Free Delivery, Rating is 4.71 out of 5\n",
      "Product name is Yellow Rose Plant with Ceramic Pot, Price is £20, Product is Free Delivery, Rating is 4.2 out of 5\n",
      "Product name is Mum's Jasmine Heart Ceramic Planter, Price is £30, Product is Pre-order with Free Delivery, Rating is 4.47 out of 5\n",
      "Product name is Large Flowering Basket, Price is £40, Product is Free Delivery, Rating is 4.15 out of 5\n",
      "Product name is White Heart Orchid, Price is £30, Product is Free Delivery, Rating is 4.51 out of 5\n",
      "Product name is Purple Miniature Phalaenopsis Cascade Orchid in Ceramic Pot, Price is £25, Product is Free Delivery, Rating is 4.36 out of 5\n",
      "Product name is Large Peace Lily in Basket, Price is £30, Product is Free Delivery, Rating is 4.68 out of 5\n"
     ]
    }
   ],
   "source": [
    "# find all divs with data-tagg attribute that contain \"product-card\" and potentially other values\n",
    "product_divs = soup.find_all('div', attrs={'data-tagg': lambda x: x and \"product-card\" in x}) # Using a lambda function to find all divs with data-tagg attribute that contain \"product-card\" and potentially other values\n",
    "for product_div in product_divs[:10]: # Looping through the first 10 product divs\n",
    "    a_tag = product_div.find('a') # Finding the first a tag in the product div\n",
    "    # get the aria-label attribute of the a tag\n",
    "    aria_label = a_tag['aria-label'] # Getting the value of the aria-label attribute of the a tag\n",
    "    print(aria_label) # Printing the value of the aria-label attribute of the a tag\n"
   ]
  },
  {
   "cell_type": "markdown",
   "metadata": {},
   "source": [
    "We can easily extract product details right from these accesibility labels. Let's write a function to do so."
   ]
  },
  {
   "cell_type": "code",
   "execution_count": 16,
   "metadata": {},
   "outputs": [
    {
     "data": {
      "text/plain": [
       "{'name': 'Oriental Lily',\n",
       " 'price': ' 25',\n",
       " 'details': ' Free Delivery',\n",
       " 'rating': ' 4.64'}"
      ]
     },
     "execution_count": 16,
     "metadata": {},
     "output_type": "execute_result"
    }
   ],
   "source": [
    "def product_details_from_label(label):\n",
    "    # split the label into its parts\n",
    "    parts = label.split(\",\") # Splitting the label into its parts\n",
    "\n",
    "    product_details = {} # Creating an empty dictionary to store the product details\n",
    "    # each part can do something different, let's loop through the parts in order to find out the name, price, details and rating\n",
    "    for part in parts:\n",
    "        if \"Product name is \" in part:\n",
    "            product_details['name'] = part.replace(\"Product name is \", \"\")\n",
    "        elif \"Price is £\" in part:\n",
    "            product_details['price'] = part.replace(\"Price is £\", \"\")\n",
    "        elif \"Rating is \" in part:\n",
    "            product_details['rating'] = part.replace(\"Rating is \", \"\").replace(\" out of 5\", \"\") # keeping just the rating itself\n",
    "        elif \"Product is \" in part: # captures stuff like Free delivery\n",
    "            product_details['details'] = part.replace(\"Product is \", \"\")\n",
    "    return product_details # Returning the product details dictionary\n",
    "\n",
    "test_details = \"Product name is Oriental Lily, Price is £25, Product is Free Delivery, Rating is 4.64 out of 5\"\n",
    "product_details_from_label(test_details) # Testing the function with a sample label\n",
    "        "
   ]
  },
  {
   "cell_type": "markdown",
   "metadata": {},
   "source": [
    "We can now use our function `product_details_from_label` to go from the accesibility labels (\"Product name is...\") to structured product information."
   ]
  },
  {
   "cell_type": "code",
   "execution_count": 17,
   "metadata": {},
   "outputs": [
    {
     "data": {
      "text/plain": [
       "[{'name': 'Spring Flowering Basket',\n",
       "  'price': ' 30',\n",
       "  'details': ' Free Delivery',\n",
       "  'rating': ' 4.37'},\n",
       " {'name': 'Rose Trough',\n",
       "  'price': ' 25',\n",
       "  'details': ' Free Delivery',\n",
       "  'rating': ' 4.51'},\n",
       " {'name': 'Yellow Miniature Phalaenopsis Orchid in Ceramic Pot',\n",
       "  'price': ' 20',\n",
       "  'details': ' Free Delivery',\n",
       "  'rating': ' 4.58'},\n",
       " {'name': 'White Miniature Phalaenopsis Orchid in Ceramic Pot',\n",
       "  'price': ' 20',\n",
       "  'details': ' Free Delivery',\n",
       "  'rating': ' 4.71'},\n",
       " {'name': 'Yellow Rose Plant with Ceramic Pot',\n",
       "  'price': ' 20',\n",
       "  'details': ' Free Delivery',\n",
       "  'rating': ' 4.2'}]"
      ]
     },
     "execution_count": 17,
     "metadata": {},
     "output_type": "execute_result"
    }
   ],
   "source": [
    "products = [] # Creating an empty list to store the product details\n",
    "\n",
    "# find all divs with data-tagg attribute that contain \"product-card\" and potentially other values\n",
    "product_divs = soup.find_all('div', attrs={'data-tagg': lambda x: x and \"product-card\" in x}) # Using a lambda function to find all divs with data-tagg attribute that contain \"product-card\" and potentially other values\n",
    "for product_div in product_divs: # Looping through the first 10 product divs\n",
    "    a_tag = product_div.find('a') # Finding the first a tag in the product div\n",
    "    aria_label = a_tag['aria-label'] # Getting the value of the aria-label attribute of the a tag\n",
    "\n",
    "    product_details = product_details_from_label(aria_label) # Using the function to get the product details from the aria-label\n",
    "    products.append(product_details) # Appending the product details to the list of products\n",
    "\n",
    "products[:5] # let's take a peek at the first 5 products"
   ]
  },
  {
   "cell_type": "markdown",
   "metadata": {},
   "source": [
    "## Finding more product information: rank, image and link \n",
    "\n",
    "This is a good start but we probably want more information about each product than just names, prices and ratings.\n",
    "\n",
    "One useful bit of information is just the products rank on the page (products are sorted by `best sellers`). Thankfully this is easy, the `divs` position in `product_divs` is its rank.\n",
    "\n",
    "We also want to get the urls of images and the product pages.\n",
    "\n",
    "### Images\n",
    "Images are easy to find. We'll just look for `img` tags within the `divs`.\n",
    "\n",
    "<img src=\"https://raw.githubusercontent.com/FM-ds/ScrapingWorkshop/main/notebook_images/ms_inspect_image.png\" width=\"600\">\n",
    "\n",
    "\n",
    "### Links\n",
    "The links are also easy. We can just look at the `href` attribute of the `a` tag.\n",
    "\n",
    "\n"
   ]
  },
  {
   "cell_type": "code",
   "execution_count": 18,
   "metadata": {},
   "outputs": [
    {
     "data": {
      "text/plain": [
       "[{'name': 'Spring Flowering Basket',\n",
       "  'price': ' 30',\n",
       "  'details': ' Free Delivery',\n",
       "  'rating': ' 4.37',\n",
       "  'url': 'http://www.marksandspencer.com/spring-flowering-basket-delivery-from-3rd-january-2024-/p/flp60178395#intid=pid_pg1pip48g2r1c1|prodflag_submsg-Free%20Delivery',\n",
       "  'image': 'https://asset1.cxnmarksandspencer.com/is/image/mands/SD_FD_F44A_00172851_NC_X_EC_90?wid=1024&qlt=80',\n",
       "  'rank': 1},\n",
       " {'name': 'Rose Trough',\n",
       "  'price': ' 25',\n",
       "  'details': ' Free Delivery',\n",
       "  'rating': ' 4.51',\n",
       "  'url': 'http://www.marksandspencer.com/yellow-rose-trough/p/flp21035215#intid=pid_pg1pip48g2r1c2|prodflag_submsg-Free%20Delivery',\n",
       "  'image': 'https://asset1.cxnmarksandspencer.com/is/image/mands/SD_FD_F44A_00457873_NC_X_EC_90?wid=1024&qlt=80',\n",
       "  'rank': 2}]"
      ]
     },
     "execution_count": 18,
     "metadata": {},
     "output_type": "execute_result"
    }
   ],
   "source": [
    "products = [] # Creating an empty list to store the product details\n",
    "\n",
    "# find all divs with data-tagg attribute that contain \"product-card\" and potentially other values\n",
    "product_divs = soup.find_all('div', attrs={'data-tagg': lambda x: x and \"product-card\" in x}) # Using a lambda function to find all divs with data-tagg attribute that contain \"product-card\" and potentially other values\n",
    "for i, product_div in enumerate(product_divs): # Looping through the first 10 product divs\n",
    "    a_tag = product_div.find('a') # Finding the first a tag in the product div\n",
    "    aria_label = a_tag['aria-label'] # Getting the value of the aria-label attribute of the a tag\n",
    "\n",
    "    # extract names, prices, details and ratings from the aria-label\n",
    "    product_details = product_details_from_label(aria_label) # Using the function to get the product details from the aria-label\n",
    "\n",
    "    # extract the product link from the a tag\n",
    "    product_details['url'] = a_tag['href'] # Getting the value of the href attribute of the a tag\n",
    "    product_details['url'] = \"http://www.marksandspencer.com\" + product_details['url'] # Adding the base URL to the product URL\n",
    "\n",
    "\n",
    "    # extract the image link from the a tag\n",
    "    img_tags = a_tag.find_all('img') # Finding the first img tag in the a tag\n",
    "    product_details['image'] = img_tags[-1]['src'] # Getting the value of the src attribute of the img tag\n",
    "\n",
    "    # add the rank of the product\n",
    "    product_details['rank'] = i + 1 # Adding the rank of the product\n",
    "\n",
    "    products.append(product_details) # Appending the product details to the list of products\n",
    "\n",
    "\n",
    "products[:2] # let's take a peek at the first 2 products"
   ]
  },
  {
   "cell_type": "code",
   "execution_count": null,
   "metadata": {},
   "outputs": [],
   "source": []
  },
  {
   "cell_type": "markdown",
   "metadata": {},
   "source": [
    "# Saving and Visualising \n",
    "\n",
    "We now have structured product information in `products`, a list of dicts. Let's bring them into a `pandas` dataframe and start to clean the data ready for visualisation.\n",
    "\n",
    "The only things we have to do are make our `price`, `rating` and `rank` columns numbers."
   ]
  },
  {
   "cell_type": "code",
   "execution_count": 19,
   "metadata": {},
   "outputs": [
    {
     "data": {
      "text/html": [
       "<div>\n",
       "<style scoped>\n",
       "    .dataframe tbody tr th:only-of-type {\n",
       "        vertical-align: middle;\n",
       "    }\n",
       "\n",
       "    .dataframe tbody tr th {\n",
       "        vertical-align: top;\n",
       "    }\n",
       "\n",
       "    .dataframe thead th {\n",
       "        text-align: right;\n",
       "    }\n",
       "</style>\n",
       "<table border=\"1\" class=\"dataframe\">\n",
       "  <thead>\n",
       "    <tr style=\"text-align: right;\">\n",
       "      <th></th>\n",
       "      <th>name</th>\n",
       "      <th>price</th>\n",
       "      <th>details</th>\n",
       "      <th>rating</th>\n",
       "      <th>url</th>\n",
       "      <th>image</th>\n",
       "      <th>rank</th>\n",
       "    </tr>\n",
       "  </thead>\n",
       "  <tbody>\n",
       "    <tr>\n",
       "      <th>0</th>\n",
       "      <td>Spring Flowering Basket</td>\n",
       "      <td>30</td>\n",
       "      <td>Free Delivery</td>\n",
       "      <td>4.37</td>\n",
       "      <td>http://www.marksandspencer.com/spring-flowerin...</td>\n",
       "      <td>https://asset1.cxnmarksandspencer.com/is/image...</td>\n",
       "      <td>1</td>\n",
       "    </tr>\n",
       "    <tr>\n",
       "      <th>1</th>\n",
       "      <td>Rose Trough</td>\n",
       "      <td>25</td>\n",
       "      <td>Free Delivery</td>\n",
       "      <td>4.51</td>\n",
       "      <td>http://www.marksandspencer.com/yellow-rose-tro...</td>\n",
       "      <td>https://asset1.cxnmarksandspencer.com/is/image...</td>\n",
       "      <td>2</td>\n",
       "    </tr>\n",
       "    <tr>\n",
       "      <th>2</th>\n",
       "      <td>Yellow Miniature Phalaenopsis Orchid in Cerami...</td>\n",
       "      <td>20</td>\n",
       "      <td>Free Delivery</td>\n",
       "      <td>4.58</td>\n",
       "      <td>http://www.marksandspencer.com/yellow-miniatur...</td>\n",
       "      <td>https://asset1.cxnmarksandspencer.com/is/image...</td>\n",
       "      <td>3</td>\n",
       "    </tr>\n",
       "    <tr>\n",
       "      <th>3</th>\n",
       "      <td>White Miniature Phalaenopsis Orchid in Ceramic...</td>\n",
       "      <td>20</td>\n",
       "      <td>Free Delivery</td>\n",
       "      <td>4.71</td>\n",
       "      <td>http://www.marksandspencer.com/white-miniature...</td>\n",
       "      <td>https://asset1.cxnmarksandspencer.com/is/image...</td>\n",
       "      <td>4</td>\n",
       "    </tr>\n",
       "    <tr>\n",
       "      <th>4</th>\n",
       "      <td>Yellow Rose Plant with Ceramic Pot</td>\n",
       "      <td>20</td>\n",
       "      <td>Free Delivery</td>\n",
       "      <td>4.20</td>\n",
       "      <td>http://www.marksandspencer.com/yellow-rose-pla...</td>\n",
       "      <td>https://asset1.cxnmarksandspencer.com/is/image...</td>\n",
       "      <td>5</td>\n",
       "    </tr>\n",
       "  </tbody>\n",
       "</table>\n",
       "</div>"
      ],
      "text/plain": [
       "                                                name  price         details  \\\n",
       "0                            Spring Flowering Basket     30   Free Delivery   \n",
       "1                                        Rose Trough     25   Free Delivery   \n",
       "2  Yellow Miniature Phalaenopsis Orchid in Cerami...     20   Free Delivery   \n",
       "3  White Miniature Phalaenopsis Orchid in Ceramic...     20   Free Delivery   \n",
       "4                 Yellow Rose Plant with Ceramic Pot     20   Free Delivery   \n",
       "\n",
       "   rating                                                url  \\\n",
       "0    4.37  http://www.marksandspencer.com/spring-flowerin...   \n",
       "1    4.51  http://www.marksandspencer.com/yellow-rose-tro...   \n",
       "2    4.58  http://www.marksandspencer.com/yellow-miniatur...   \n",
       "3    4.71  http://www.marksandspencer.com/white-miniature...   \n",
       "4    4.20  http://www.marksandspencer.com/yellow-rose-pla...   \n",
       "\n",
       "                                               image  rank  \n",
       "0  https://asset1.cxnmarksandspencer.com/is/image...     1  \n",
       "1  https://asset1.cxnmarksandspencer.com/is/image...     2  \n",
       "2  https://asset1.cxnmarksandspencer.com/is/image...     3  \n",
       "3  https://asset1.cxnmarksandspencer.com/is/image...     4  \n",
       "4  https://asset1.cxnmarksandspencer.com/is/image...     5  "
      ]
     },
     "execution_count": 19,
     "metadata": {},
     "output_type": "execute_result"
    }
   ],
   "source": [
    "df = pd.DataFrame(products) # Creating a DataFrame from the list of products\n",
    "\n",
    "# make the numeric columns actually numeric\n",
    "df['price'] = pd.to_numeric(df['price'])\n",
    "df['rating'] = pd.to_numeric(df['rating'])\n",
    "df['rank'] = pd.to_numeric(df['rank'])\n",
    "\n",
    "df = df.dropna(subset=['price', 'rating']) # Dropping rows with missing values in the price and rating columns\n",
    "\n",
    "df.head() # let's take a peek at the first 5 products"
   ]
  },
  {
   "cell_type": "markdown",
   "metadata": {},
   "source": [
    "Let's start to take a look at our data.\n",
    "\n",
    "Let's try some simple scatters with plotnine. \n",
    "\n",
    "First, are higher rated products better selling (rank)?"
   ]
  },
  {
   "cell_type": "code",
   "execution_count": 26,
   "metadata": {},
   "outputs": [
    {
     "data": {
      "image/png": "[encoded data removed]",
      "text/plain": [
       "<Figure size 640x480 with 1 Axes>"
      ]
     },
     "metadata": {
      "image/png": {
       "height": 480,
       "width": 640
      }
     },
     "output_type": "display_data"
    },
    {
     "data": {
      "text/plain": [
       "<Figure Size: (640 x 480)>"
      ]
     },
     "execution_count": 26,
     "metadata": {},
     "output_type": "execute_result"
    }
   ],
   "source": [
    "# let's plot the price and rating of the products with plotnine\n",
    "(ggplot(df, aes(x='rating', y='rank')) # Creating a plot with price on the x-axis and rating on the y-axis\n",
    " + geom_point() # Adding points to the plot\n",
    "    + stat_smooth() \n",
    "         # Adding a smoothed line to the plot\n",
    ")"
   ]
  },
  {
   "cell_type": "markdown",
   "metadata": {},
   "source": [
    "Visually there's little evidence for it.\n",
    "\n",
    "Let's also try looking at the relationship between price and rank - are more expensive products worse selling?\n",
    "\n",
    "We can do this with plotnine, but let's try making an interactive chart with another module `altair`:"
   ]
  },
  {
   "cell_type": "code",
   "execution_count": 29,
   "metadata": {},
   "outputs": [
    {
     "name": "stderr",
     "output_type": "stream",
     "text": [
      "/Users/finn/anaconda3/lib/python3.11/site-packages/altair/utils/core.py:395: FutureWarning: the convert_dtype parameter is deprecated and will be removed in a future version.  Do ``ser.astype(object).apply()`` instead if you want ``convert_dtype=False``.\n",
      "/Users/finn/anaconda3/lib/python3.11/site-packages/altair/utils/core.py:395: FutureWarning: the convert_dtype parameter is deprecated and will be removed in a future version.  Do ``ser.astype(object).apply()`` instead if you want ``convert_dtype=False``.\n",
      "/Users/finn/anaconda3/lib/python3.11/site-packages/altair/utils/core.py:395: FutureWarning: the convert_dtype parameter is deprecated and will be removed in a future version.  Do ``ser.astype(object).apply()`` instead if you want ``convert_dtype=False``.\n"
     ]
    },
    {
     "data": {
      "text/html": [
       "\n",
       "<style>\n",
       "  #altair-viz-188be865094348148829c1bb6d2011d5.vega-embed {\n",
       "    width: 100%;\n",
       "    display: flex;\n",
       "  }\n",
       "\n",
       "  #altair-viz-188be865094348148829c1bb6d2011d5.vega-embed details,\n",
       "  #altair-viz-188be865094348148829c1bb6d2011d5.vega-embed details summary {\n",
       "    position: relative;\n",
       "  }\n",
       "</style>\n",
       "<div id=\"altair-viz-188be865094348148829c1bb6d2011d5\"></div>\n",
       "<script type=\"text/javascript\">\n",
       "  var VEGA_DEBUG = (typeof VEGA_DEBUG == \"undefined\") ? {} : VEGA_DEBUG;\n",
       "  (function(spec, embedOpt){\n",
       "    let outputDiv = document.currentScript.previousElementSibling;\n",
       "    if (outputDiv.id !== \"altair-viz-188be865094348148829c1bb6d2011d5\") {\n",
       "      outputDiv = document.getElementById(\"altair-viz-188be865094348148829c1bb6d2011d5\");\n",
       "    }\n",
       "    const paths = {\n",
       "      \"vega\": \"https://cdn.jsdelivr.net/npm/vega@5?noext\",\n",
       "      \"vega-lib\": \"https://cdn.jsdelivr.net/npm/vega-lib?noext\",\n",
       "      \"vega-lite\": \"https://cdn.jsdelivr.net/npm/vega-lite@5.8.0?noext\",\n",
       "      \"vega-embed\": \"https://cdn.jsdelivr.net/npm/vega-embed@6?noext\",\n",
       "    };\n",
       "\n",
       "    function maybeLoadScript(lib, version) {\n",
       "      var key = `${lib.replace(\"-\", \"\")}_version`;\n",
       "      return (VEGA_DEBUG[key] == version) ?\n",
       "        Promise.resolve(paths[lib]) :\n",
       "        new Promise(function(resolve, reject) {\n",
       "          var s = document.createElement('script');\n",
       "          document.getElementsByTagName(\"head\")[0].appendChild(s);\n",
       "          s.async = true;\n",
       "          s.onload = () => {\n",
       "            VEGA_DEBUG[key] = version;\n",
       "            return resolve(paths[lib]);\n",
       "          };\n",
       "          s.onerror = () => reject(`Error loading script: ${paths[lib]}`);\n",
       "          s.src = paths[lib];\n",
       "        });\n",
       "    }\n",
       "\n",
       "    function showError(err) {\n",
       "      outputDiv.innerHTML = `<div class=\"error\" style=\"color:red;\">${err}</div>`;\n",
       "      throw err;\n",
       "    }\n",
       "\n",
       "    function displayChart(vegaEmbed) {\n",
       "      vegaEmbed(outputDiv, spec, embedOpt)\n",
       "        .catch(err => showError(`Javascript Error: ${err.message}<br>This usually means there's a typo in your chart specification. See the javascript console for the full traceback.`));\n",
       "    }\n",
       "\n",
       "    if(typeof define === \"function\" && define.amd) {\n",
       "      requirejs.config({paths});\n",
       "      require([\"vega-embed\"], displayChart, err => showError(`Error loading script: ${err.message}`));\n",
       "    } else {\n",
       "      maybeLoadScript(\"vega\", \"5\")\n",
       "        .then(() => maybeLoadScript(\"vega-lite\", \"5.8.0\"))\n",
       "        .then(() => maybeLoadScript(\"vega-embed\", \"6\"))\n",
       "        .catch(showError)\n",
       "        .then(() => displayChart(vegaEmbed));\n",
       "    }\n",
       "  })({\"config\": {\"view\": {\"continuousWidth\": 300, \"continuousHeight\": 300}, \"axis\": {\"grid\": false}, \"axisY\": {\"labelExpr\": \"'\\u00a3'+datum.value\"}}, \"data\": {\"name\": \"data-ab126ef880db635c6e9c12dd3d6ee44f\"}, \"mark\": {\"type\": \"image\", \"height\": 45, \"opacity\": 0.7, \"width\": 45}, \"background\": \"rgb(239,239,239)\", \"encoding\": {\"tooltip\": [{\"field\": \"name\", \"type\": \"nominal\"}, {\"field\": \"price\", \"type\": \"quantitative\"}, {\"field\": \"rating\", \"type\": \"quantitative\"}], \"url\": {\"field\": \"image\", \"type\": \"nominal\"}, \"x\": {\"field\": \"rank\", \"type\": \"quantitative\"}, \"y\": {\"field\": \"price\", \"type\": \"quantitative\"}}, \"height\": 400, \"params\": [{\"name\": \"param_4\", \"select\": {\"type\": \"interval\", \"encodings\": [\"x\", \"y\"]}, \"bind\": \"scales\"}], \"title\": {\"text\": \"M&S Plants\", \"anchor\": \"start\", \"fontSize\": 16, \"subtitle\": \"Price vs Best-Seller Rank\"}, \"width\": 600, \"$schema\": \"https://vega.github.io/schema/vega-lite/v5.8.0.json\", \"datasets\": {\"data-ab126ef880db635c6e9c12dd3d6ee44f\": [{\"name\": \"Spring Flowering Basket\", \"price\": 30, \"details\": \" Free Delivery\", \"rating\": 4.37, \"url\": \"http://www.marksandspencer.com/spring-flowering-basket-delivery-from-3rd-january-2024-/p/flp60178395#intid=pid_pg1pip48g2r1c1|prodflag_submsg-Free%20Delivery\", \"image\": \"https://asset1.cxnmarksandspencer.com/is/image/mands/SD_FD_F44A_00172851_NC_X_EC_90?wid=1024&qlt=80\", \"rank\": 1}, {\"name\": \"Rose Trough\", \"price\": 25, \"details\": \" Free Delivery\", \"rating\": 4.51, \"url\": \"http://www.marksandspencer.com/yellow-rose-trough/p/flp21035215#intid=pid_pg1pip48g2r1c2|prodflag_submsg-Free%20Delivery\", \"image\": \"https://asset1.cxnmarksandspencer.com/is/image/mands/SD_FD_F44A_00457873_NC_X_EC_90?wid=1024&qlt=80\", \"rank\": 2}, {\"name\": \"Yellow Miniature Phalaenopsis Orchid in Ceramic Pot\", \"price\": 20, \"details\": \" Free Delivery\", \"rating\": 4.58, \"url\": \"http://www.marksandspencer.com/yellow-miniature-phalaenopsis-orchid-in-ceramic-pot/p/flp60492619#intid=pid_pg1pip48g2r2c1|prodflag_submsg-Free%20Delivery\", \"image\": \"https://asset1.cxnmarksandspencer.com/is/image/mands/SD_FD_F44A_29126477_NC_X_EC_90?wid=1024&qlt=80\", \"rank\": 3}, {\"name\": \"White Miniature Phalaenopsis Orchid in Ceramic Pot\", \"price\": 20, \"details\": \" Free Delivery\", \"rating\": 4.71, \"url\": \"http://www.marksandspencer.com/white-miniature-phalaenopsis-orchid-in-ceramic-pot/p/flp60492617#intid=pid_pg1pip48g2r2c2|prodflag_submsg-Free%20Delivery\", \"image\": \"https://asset1.cxnmarksandspencer.com/is/image/mands/SD_FD_F44A_29126446_NC_X_EC_90?wid=1024&qlt=80\", \"rank\": 4}, {\"name\": \"Yellow Rose Plant with Ceramic Pot\", \"price\": 20, \"details\": \" Free Delivery\", \"rating\": 4.2, \"url\": \"http://www.marksandspencer.com/yellow-rose-plant-with-ceramic-pot/p/flp60586273#intid=pid_pg1pip48g2r3c1|prodflag_submsg-Free%20Delivery\", \"image\": \"https://asset1.cxnmarksandspencer.com/is/image/mands/SD_FD_F44A_29306244_NC_X_EC_90?wid=1024&qlt=80\", \"rank\": 5}, {\"name\": \"Mum's Jasmine Heart Ceramic Planter\", \"price\": 30, \"details\": \" Pre-order with Free Delivery\", \"rating\": 4.47, \"url\": \"http://www.marksandspencer.com/mums-jasmine-heart-ceramic/p/flp60552823#intid=pid_pg1pip48g2r3c2|prodflag_submsg-Pre-order%20with%20Free%20Delivery\", \"image\": \"https://asset1.cxnmarksandspencer.com/is/image/mands/SD_FD_F44A_29234233_NC_X_EC_90?wid=1024&qlt=80\", \"rank\": 6}, {\"name\": \"Large Flowering Basket\", \"price\": 40, \"details\": \" Free Delivery\", \"rating\": 4.15, \"url\": \"http://www.marksandspencer.com/large-flowering-basket-delivery-from-3rd-january-2024-/p/flp60178324#intid=pid_pg1pip48g2r4c1|prodflag_submsg-Free%20Delivery\", \"image\": \"https://asset1.cxnmarksandspencer.com/is/image/mands/SD_FD_F44A_00172752_NC_X_EC_90?wid=1024&qlt=80\", \"rank\": 7}, {\"name\": \"White Heart Orchid\", \"price\": 30, \"details\": \" Free Delivery\", \"rating\": 4.51, \"url\": \"http://www.marksandspencer.com/white-heart-orchid/p/flp60057663#intid=pid_pg1pip48g2r4c2|prodflag_submsg-Free%20Delivery\", \"image\": \"https://asset1.cxnmarksandspencer.com/is/image/mands/SD_FD_F44A_00973359_NC_X_EC_90?wid=1024&qlt=80\", \"rank\": 8}, {\"name\": \"Purple Miniature Phalaenopsis Cascade Orchid in Ceramic Pot\", \"price\": 25, \"details\": \" Free Delivery\", \"rating\": 4.36, \"url\": \"http://www.marksandspencer.com/purple-miniature-phalaenopsis-cascade-orchid-in-ceramic-pot/p/flp60492615#intid=pid_pg1pip48g2r5c1|prodflag_submsg-Free%20Delivery\", \"image\": \"https://asset1.cxnmarksandspencer.com/is/image/mands/SD_FD_F44A_29126392_NC_X_EC_90?wid=1024&qlt=80\", \"rank\": 9}, {\"name\": \"Large Peace Lily in Basket\", \"price\": 30, \"details\": \" Free Delivery\", \"rating\": 4.68, \"url\": \"http://www.marksandspencer.com/large-peace-lily-in-basket/p/flp60025925#intid=pid_pg1pip48g2r5c2|prodflag_submsg-Free%20Delivery\", \"image\": \"https://asset1.cxnmarksandspencer.com/is/image/mands/SD_FD_F44A_00862677_NC_X_EC_90?wid=1024&qlt=80\", \"rank\": 10}, {\"name\": \"Large Purple Phalaenopsis Orchid in Ceramic Pot\", \"price\": 35, \"details\": \" Free Delivery\", \"rating\": 4.36, \"url\": \"http://www.marksandspencer.com/large-purple-phalaenopsis-orchid-in-ceramic-pot/p/flp60187446#intid=pid_pg1pip48g2r6c1|prodflag_submsg-Free%20Delivery\", \"image\": \"https://asset1.cxnmarksandspencer.com/is/image/mands/SD_FD_F44A_00206549_NC_X_EC_90?wid=1024&qlt=80\", \"rank\": 11}, {\"name\": \"Pink Miniature Phalaenopsis Orchid in Ceramic Pot\", \"price\": 20, \"details\": \" Free Delivery\", \"rating\": 4.74, \"url\": \"http://www.marksandspencer.com/pink-miniature-phalaenopsis-orchid-in-ceramic-pot/p/flp60492618#intid=pid_pg1pip48g2r6c2|prodflag_submsg-Free%20Delivery\", \"image\": \"https://asset1.cxnmarksandspencer.com/is/image/mands/SD_FD_F44A_29126460_NC_X_EC_90?wid=1024&qlt=80\", \"rank\": 12}, {\"name\": \"Amethyst Heart Orchid\", \"price\": 30, \"details\": \" Free Delivery\", \"rating\": 4.46, \"url\": \"http://www.marksandspencer.com/amethyst-heart-orchid/p/flp60547356#intid=pid_pg1pip48g2r7c1|prodflag_submsg-Free%20Delivery\", \"image\": \"https://asset1.cxnmarksandspencer.com/is/image/mands/SD_FD_F44A_29227433_NC_X_EC_90?wid=1024&qlt=80\", \"rank\": 13}, {\"name\": \"Kalanchoe Gift Bag with Prosecco\", \"price\": 25, \"details\": \" Free Delivery\", \"rating\": 4.39, \"url\": \"http://www.marksandspencer.com/kalanchoe-gift-bag-with-prosecco/p/flp60513966#intid=pid_pg1pip48g2r7c2|prodflag_submsg-Free%20Delivery\", \"image\": \"https://asset1.cxnmarksandspencer.com/is/image/mands/SD_FD_F44A_29170753_NC_X_EC_90?wid=1024&qlt=80\", \"rank\": 14}, {\"name\": \"White Miniature Phalaenopsis Cascade Orchid in Ceramic Pot\", \"price\": 25, \"details\": \" Free Delivery\", \"rating\": 4.54, \"url\": \"http://www.marksandspencer.com/white-miniature-phalaenopsis-cascade-orchid-in-ceramic-pot/p/flp60492616#intid=pid_pg1pip48g2r8c1|prodflag_submsg-Free%20Delivery\", \"image\": \"https://asset1.cxnmarksandspencer.com/is/image/mands/SD_FD_F44A_29126415_NC_X_EC_90?wid=1024&qlt=80\", \"rank\": 15}, {\"name\": \"Calla Lily Ceramic - Pink\", \"price\": 25, \"details\": \" Free Delivery\", \"rating\": 4.42, \"url\": \"http://www.marksandspencer.com/calla-lily-plant-in-ceramic-pot/p/flp60547378#intid=pid_pg1pip48g2r8c2|prodflag_submsg-Free%20Delivery\", \"image\": \"https://asset1.cxnmarksandspencer.com/is/image/mands/SD_FD_F44A_29227624_NC_X_EC_90?wid=1024&qlt=80\", \"rank\": 16}, {\"name\": \"Foliage Planter\", \"price\": 30, \"details\": \" Free Delivery\", \"rating\": 4.53, \"url\": \"http://www.marksandspencer.com/foliage-planter/p/flp60058643#intid=pid_pg1pip48g2r9c1|prodflag_submsg-Free%20Delivery\", \"image\": \"https://asset1.cxnmarksandspencer.com/is/image/mands/SD_FD_F44A_00978774_NC_X_EC_90?wid=1024&qlt=80\", \"rank\": 17}, {\"name\": \"Large Dracaena in Basket\", \"price\": 40, \"details\": \" Free Delivery\", \"rating\": 4.28, \"url\": \"http://www.marksandspencer.com/large-dracaena-in-basket/p/flp60536300#intid=pid_pg1pip48g2r9c2|prodflag_submsg-Free%20Delivery\", \"image\": \"https://asset1.cxnmarksandspencer.com/is/image/mands/SD_FD_F44A_29212040_NC_X_EC_90?wid=1024&qlt=80\", \"rank\": 18}, {\"name\": \"Olive Tree in Bag\", \"price\": 40, \"details\": \" Free Delivery\", \"rating\": 4.37, \"url\": \"http://www.marksandspencer.com/olive-tree-in-bag/p/flp60178572#intid=pid_pg1pip48g2r10c1|prodflag_submsg-Free%20Delivery\", \"image\": \"https://asset1.cxnmarksandspencer.com/is/image/mands/SD_FD_F44A_00173285_NC_X_EC_90?wid=1024&qlt=80\", \"rank\": 19}, {\"name\": \"Gift Wrapped Hydrangea\", \"price\": 25, \"details\": \" Pre-order with Free Delivery\", \"rating\": 4.35, \"url\": \"http://www.marksandspencer.com/gift-wrapped-hydrangea/p/flp60154900#intid=pid_pg1pip48g2r10c2|prodflag_submsg-Pre-order%20with%20Free%20Delivery\", \"image\": \"https://asset1.cxnmarksandspencer.com/is/image/mands/SD_FD_F44A_00122641_NC_X_EC_90?wid=1024&qlt=80\", \"rank\": 20}, {\"name\": \"Duo Purple Phalaenopsis Orchid Planter\", \"price\": 45, \"details\": \" Free Delivery\", \"rating\": 4.4, \"url\": \"http://www.marksandspencer.com/duo-phalaenopsis-orchid-planter/p/flp60547351#intid=pid_pg1pip48g2r11c1|prodflag_submsg-Free%20Delivery\", \"image\": \"https://asset1.cxnmarksandspencer.com/is/image/mands/SD_FD_F44A_29227440_NC_X_EC_90?wid=1024&qlt=80\", \"rank\": 21}, {\"name\": \"Large White Phalaenopsis Orchid in Ceramic Pot\", \"price\": 30, \"details\": \" Free Delivery\", \"rating\": 4.25, \"url\": \"http://www.marksandspencer.com/large-white-phalaenopsis-orchid-in-ceramic-pot/p/flp60257986#intid=pid_pg1pip48g2r11c2|prodflag_submsg-Free%20Delivery\", \"image\": \"https://asset1.cxnmarksandspencer.com/is/image/mands/SD_FD_F44A_00354493_NC_X_EC_90?wid=1024&qlt=80\", \"rank\": 22}, {\"name\": \"Cyclamen Plant with Ceramic Pot\", \"price\": 20, \"details\": \" Free Delivery\", \"rating\": 4.49, \"url\": \"http://www.marksandspencer.com/cyclamen-plant-with-ceramic-pot/p/flp60586276#intid=pid_pg1pip48g2r12c1|prodflag_submsg-Free%20Delivery\", \"image\": \"https://asset1.cxnmarksandspencer.com/is/image/mands/SD_FD_F44A_29306305_NC_X_EC_90?wid=1024&qlt=80\", \"rank\": 23}, {\"name\": \"Medium Calathea in Ceramic Pot\", \"price\": 25, \"details\": \" Free Delivery\", \"rating\": 4.89, \"url\": \"http://www.marksandspencer.com/medium-calathea-in-ceramic-pot/p/flp60554045#intid=pid_pg1pip48g2r12c2|prodflag_submsg-Free%20Delivery\", \"image\": \"https://asset1.cxnmarksandspencer.com/is/image/mands/SD_FD_F44A_29235759_NC_X_EC_90?wid=1024&qlt=80\", \"rank\": 24}, {\"name\": \"Orchid Glass Terrarium\", \"price\": 45, \"details\": \" Free Delivery\", \"rating\": 4.48, \"url\": \"http://www.marksandspencer.com/orchid-glass-terrarium/p/flp60483336#intid=pid_pg1pip48g2r13c1|prodflag_submsg-Free%20Delivery\", \"image\": \"https://asset1.cxnmarksandspencer.com/is/image/mands/SD_FD_F44A_29103522_NC_X_EC_90?wid=1024&qlt=80\", \"rank\": 25}, {\"name\": \"Celebration Rose Plant\", \"price\": 25, \"details\": \" Free Delivery\", \"rating\": 4.52, \"url\": \"http://www.marksandspencer.com/thinking-of-you-rose/p/flp60068698#intid=pid_pg1pip48g2r13c2|prodflag_submsg-Free%20Delivery\", \"image\": \"https://asset1.cxnmarksandspencer.com/is/image/mands/SD_FD_F44A_00034784_NC_X_EC_90?wid=1024&qlt=80\", \"rank\": 26}, {\"name\": \"Medium Sansevieria (Snake Plant) in Ceramic Pot\", \"price\": 25, \"details\": \" Free Delivery\", \"rating\": 4.12, \"url\": \"http://www.marksandspencer.com/medium-sansevieria-snake-plant-in-ceramic-pot/p/flp60547338#intid=pid_pg1pip48g2r14c1|prodflag_submsg-Free%20Delivery\", \"image\": \"https://asset1.cxnmarksandspencer.com/is/image/mands/SD_FD_F44A_29227372_NC_X_EC_90?wid=1024&qlt=80\", \"rank\": 27}, {\"name\": \"Zamioculcus Plant On Stand\", \"price\": 30, \"details\": \" Free Delivery\", \"rating\": 4.84, \"url\": \"http://www.marksandspencer.com/zamioculcus-plant-on-stand-delivery-from-3rd-january-2024-/p/flp60615304#intid=pid_pg1pip48g2r14c2|prodflag_submsg-Free%20Delivery\", \"image\": \"https://asset1.cxnmarksandspencer.com/is/image/mands/SD_FD_F44A_29350087_NC_X_EC_90?wid=1024&qlt=80\", \"rank\": 28}, {\"name\": \"Two White Phalaenopsis Orchids\", \"price\": 25, \"details\": \" Free Delivery\", \"rating\": 4.69, \"url\": \"http://www.marksandspencer.com/two-white-phalaenopsis-orchids/p/flp60492620#intid=pid_pg1pip48g2r16c1|prodflag_submsg-Free%20Delivery\", \"image\": \"https://asset1.cxnmarksandspencer.com/is/image/mands/SD_FD_F44A_29126408_NC_X_EC_90?wid=1024&qlt=80\", \"rank\": 31}, {\"name\": \"Large Monstera (Swiss Cheese Plant)\", \"price\": 28, \"details\": \" Free Delivery\", \"rating\": 4.32, \"url\": \"http://www.marksandspencer.com/large-monstera-swiss-cheese-plant/p/flp60547334#intid=pid_pg1pip48g2r16c2|prodflag_submsg-Free%20Delivery\", \"image\": \"https://asset1.cxnmarksandspencer.com/is/image/mands/SD_FD_F44A_29227426_NC_X_EC_90?wid=1024&qlt=80\", \"rank\": 32}, {\"name\": \"White Hydrangea Terracotta\", \"price\": 30, \"details\": \" Pre-order with Free Delivery\", \"rating\": 4.23, \"url\": \"http://www.marksandspencer.com/white-hydrangea-tin/p/flp60502976#intid=pid_pg1pip48g2r17c1|prodflag_submsg-Pre-order%20with%20Free%20Delivery\", \"image\": \"https://asset1.cxnmarksandspencer.com/is/image/mands/SD_FD_F44A_29149537_NC_X_EC_90?wid=1024&qlt=80\", \"rank\": 33}, {\"name\": \"Shelfie Succulent Trio\", \"price\": 28, \"details\": \" Free Delivery\", \"rating\": 4.68, \"url\": \"http://www.marksandspencer.com/shelfie-succulent-trio/p/flp60547323#intid=pid_pg1pip48g2r17c2|prodflag_submsg-Free%20Delivery\", \"image\": \"https://asset1.cxnmarksandspencer.com/is/image/mands/SD_FD_F44A_29227310_NC_X_EC_90?wid=1024&qlt=80\", \"rank\": 34}, {\"name\": \"Medium Monstera (Swiss Cheese Plant) in Ceramic Pot\", \"price\": 25, \"details\": \" Free Delivery\", \"rating\": 4.09, \"url\": \"http://www.marksandspencer.com/medium-monstera-swiss-cheese-plant-in-ceramic-pot/p/flp60547339#intid=pid_pg1pip48g2r18c1|prodflag_submsg-Free%20Delivery\", \"image\": \"https://asset1.cxnmarksandspencer.com/is/image/mands/SD_FD_F44A_29227365_NC_X_EC_90?wid=1024&qlt=80\", \"rank\": 35}, {\"name\": \"Rose Plant with Ceramic Pot & Chocolates\", \"price\": 25, \"details\": \" Free Delivery\", \"rating\": 4.61, \"url\": \"http://www.marksandspencer.com/rose-plant-with-ceramic-pot-and-chocolates/p/flp60514073#intid=pid_pg1pip48g2r18c2|prodflag_submsg-Free%20Delivery\", \"image\": \"https://asset1.cxnmarksandspencer.com/is/image/mands/SD_FD_F44A_29171859_NC_X_EC_90?wid=1024&qlt=80\", \"rank\": 36}, {\"name\": \"Camellia Plant\", \"price\": 40, \"details\": \" Free Delivery\", \"rating\": 4.6, \"url\": \"http://www.marksandspencer.com/camelia/p/flp60502936#intid=pid_pg1pip48g2r19c1|prodflag_submsg-Free%20Delivery\", \"image\": \"https://asset1.cxnmarksandspencer.com/is/image/mands/SD_FD_F44A_29149377_NC_X_EC_90?wid=1024&qlt=80\", \"rank\": 37}, {\"name\": \"Medium Boston Fern in Ceramic Pot\", \"price\": 25, \"details\": \" Free Delivery\", \"rating\": 4.07, \"url\": \"http://www.marksandspencer.com/medium-boston-fern-in-ceramic-pot/p/flp60547324#intid=pid_pg1pip48g2r19c2|prodflag_submsg-Free%20Delivery\", \"image\": \"https://asset1.cxnmarksandspencer.com/is/image/mands/SD_FD_F44A_29227341_NC_X_EC_90?wid=1024&qlt=80\", \"rank\": 38}, {\"name\": \"Succulent Bottle Garden Kit\", \"price\": 35, \"details\": \" Free Delivery\", \"rating\": 4.17, \"url\": \"http://www.marksandspencer.com/succulent-bottle-garden-kit/p/flp60483300#intid=pid_pg1pip48g2r20c1|prodflag_submsg-Free%20Delivery\", \"image\": \"https://asset1.cxnmarksandspencer.com/is/image/mands/SD_FD_F44A_29103546_NC_X_EC_90?wid=1024&qlt=80\", \"rank\": 39}, {\"name\": \"Luxury White Phalaenopsis Orchid Cascade in Gold Glass\", \"price\": 60, \"details\": \" Free Delivery\", \"rating\": 4.57, \"url\": \"http://www.marksandspencer.com/luxury-white-phalaenopsis-orchid-cascade-in-gold-glass/p/flp60547297#intid=pid_pg1pip48g2r20c2|prodflag_submsg-Free%20Delivery\", \"image\": \"https://asset1.cxnmarksandspencer.com/is/image/mands/SD_FD_F44A_29227631_NC_X_EC_90?wid=1024&qlt=80\", \"rank\": 40}, {\"name\": \"Bay Tree in Bag\", \"price\": 40, \"details\": \" Free Delivery\", \"rating\": 4.18, \"url\": \"http://www.marksandspencer.com/bay-tree-in-bag/p/flp60178573#intid=pid_pg1pip48g2r21c1|prodflag_submsg-Free%20Delivery\", \"image\": \"https://asset1.cxnmarksandspencer.com/is/image/mands/SD_FD_F44A_00173445_NC_X_EC_90?wid=1024&qlt=80\", \"rank\": 41}, {\"name\": \"Bathroom Green Plant Bundle\", \"price\": 45, \"details\": \" Free Delivery\", \"rating\": 4.77, \"url\": \"http://www.marksandspencer.com/bathroom-green-plant-bundle/p/flp60547333#intid=pid_pg1pip48g2r22c1|prodflag_submsg-Free%20Delivery\", \"image\": \"https://asset1.cxnmarksandspencer.com/is/image/mands/SD_FD_F44A_29227389_NC_X_EC_90?wid=1024&qlt=80\", \"rank\": 43}, {\"name\": \"Beginners Green Plant Bundle\", \"price\": 45, \"details\": \" Free Delivery\", \"rating\": 3.96, \"url\": \"http://www.marksandspencer.com/beginners-green-plant-bundle/p/flp60547312#intid=pid_pg1pip48g2r23c1|prodflag_submsg-Free%20Delivery\", \"image\": \"https://asset1.cxnmarksandspencer.com/is/image/mands/SD_FD_F44A_29227396_NC_X_EC_90?wid=1024&qlt=80\", \"rank\": 45}, {\"name\": \"Easy Care Green Plant Bundle\", \"price\": 45, \"details\": \" Free Delivery\", \"rating\": 4.69, \"url\": \"http://www.marksandspencer.com/easy-care-green-plant-bundle/p/flp60547332#intid=pid_pg1pip48g2r23c2|prodflag_submsg-Free%20Delivery\", \"image\": \"https://asset1.cxnmarksandspencer.com/is/image/mands/SD_FD_F44A_29227419_NC_X_EC_90?wid=1024&qlt=80\", \"rank\": 46}, {\"name\": \"Extra Large Fiddleleaf Fig in Basket\", \"price\": 60, \"details\": \" Free Delivery\", \"rating\": 4.44, \"url\": \"http://www.marksandspencer.com/extra-large-fiddleleaf-fig-in-basket/p/flp60586271#intid=pid_pg1pip48g2r24c1|prodflag_submsg-Free%20Delivery\", \"image\": \"https://asset1.cxnmarksandspencer.com/is/image/mands/SD_FD_F44A_29306299_NC_X_EC_90?wid=1024&qlt=80\", \"rank\": 47}, {\"name\": \"Baytree Plant In Tin With Slate\", \"price\": 60, \"details\": \" Free Delivery\", \"rating\": 3.48, \"url\": \"http://www.marksandspencer.com/baytree-plant-in-tin-with-slate-delivery-from-3rd-january-2024-/p/flp60547359#intid=pid_pg1pip48g2r24c2|prodflag_submsg-Free%20Delivery\", \"image\": \"https://asset1.cxnmarksandspencer.com/is/image/mands/SD_FD_F44A_29227525_NC_X_EC_90?wid=1024&qlt=80\", \"rank\": 48}]}}, {\"mode\": \"vega-lite\"});\n",
       "</script>"
      ],
      "text/plain": [
       "alt.Chart(...)"
      ]
     },
     "metadata": {},
     "output_type": "display_data"
    }
   ],
   "source": [
    "chart = alt.Chart(df).mark_image(width=45, height=45, opacity=0.7).encode(\n",
    "    x='rank:Q',\n",
    "    y='price:Q',\n",
    "    url='image',\n",
    "    tooltip=[\n",
    "        'name', 'price', 'rating'\n",
    "        ]\n",
    ") # Creating an interactive scatter plot of the products using Altair\n",
    "\n",
    "# some extra formatting, you can ignore, change or remove this\n",
    "chart = chart.properties(\n",
    "    background='rgb(239,239,239)',\n",
    "    width=600,\n",
    "    height=400,\n",
    "    title=alt.TitleParams(\n",
    "        \"M&S Plants\",\n",
    "        fontSize = 16,\n",
    "        subtitle=\"Price vs Best-Seller Rank\",\n",
    "        anchor=\"start\"\n",
    "    )\n",
    ").configure_axis(grid=False).configure_axisY(labelExpr=\"'£'+datum.value\").interactive() #  # Adding some formatting to the chart\n",
    "\n",
    "chart.display()"
   ]
  },
  {
   "cell_type": "markdown",
   "metadata": {},
   "source": [
    "Here, we see that the most expensive products (>£40) are usually among the worst selling products but that this possible relationship doesn't hold across the sample."
   ]
  },
  {
   "cell_type": "markdown",
   "metadata": {},
   "source": [
    "# Where from here?\n",
    "\n",
    "Today, we've scraped the products from one page of products from a retailer website. IF you want to continue this project or expand your skills, here are some options:\n",
    "\n",
    "1. **Scraping Other Pages**: Turn the scraping code above into a method and call it with the URLs of other results. \n",
    "2. **Scraping the whole site**: As an advanced extension, also try automating the building of this list by scraping the page menu bar. Then scrape every category.\n",
    "3. **Collect and compare prices**: Run this code on a few dates, see how prices change. Flower prices might be elevated in the UK with Mothers' day in a few days - do they fall after?"
   ]
  }
 ],
 "metadata": {
  "kernelspec": {
   "display_name": "base",
   "language": "python",
   "name": "python3"
  },
  "language_info": {
   "codemirror_mode": {
    "name": "ipython",
    "version": 3
   },
   "file_extension": ".py",
   "mimetype": "text/x-python",
   "name": "python",
   "nbconvert_exporter": "python",
   "pygments_lexer": "ipython3",
   "version": "3.11.4"
  }
 },
 "nbformat": 4,
 "nbformat_minor": 2
}
